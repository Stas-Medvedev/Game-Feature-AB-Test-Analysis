{
 "cells": [
  {
   "cell_type": "markdown",
   "metadata": {},
   "source": [
    "In this project, I will analyze the results of an A/B test for the game Cookie Cats developed by Tactile Entertainment. The objective of the game is to connect three items in a line and clear the board to beat the level. As players progress through the levels, they will occasionally encounter gates where they will either have to wait a certain amount of time or make an in-app purchase to progress further. The goal of this project is to compare the difference of effects of setting the first gate at level 30 or level 40 on 1 and 7 day retention and number of rounds played."
   ]
  },
  {
   "cell_type": "code",
   "execution_count": 1,
   "metadata": {
    "scrolled": false
   },
   "outputs": [
    {
     "data": {
      "text/html": [
       "<div>\n",
       "<style scoped>\n",
       "    .dataframe tbody tr th:only-of-type {\n",
       "        vertical-align: middle;\n",
       "    }\n",
       "\n",
       "    .dataframe tbody tr th {\n",
       "        vertical-align: top;\n",
       "    }\n",
       "\n",
       "    .dataframe thead th {\n",
       "        text-align: right;\n",
       "    }\n",
       "</style>\n",
       "<table border=\"1\" class=\"dataframe\">\n",
       "  <thead>\n",
       "    <tr style=\"text-align: right;\">\n",
       "      <th></th>\n",
       "      <th>userid</th>\n",
       "      <th>version</th>\n",
       "      <th>sum_gamerounds</th>\n",
       "      <th>retention_1</th>\n",
       "      <th>retention_7</th>\n",
       "    </tr>\n",
       "  </thead>\n",
       "  <tbody>\n",
       "    <tr>\n",
       "      <th>0</th>\n",
       "      <td>116</td>\n",
       "      <td>gate_30</td>\n",
       "      <td>3</td>\n",
       "      <td>False</td>\n",
       "      <td>False</td>\n",
       "    </tr>\n",
       "    <tr>\n",
       "      <th>1</th>\n",
       "      <td>337</td>\n",
       "      <td>gate_30</td>\n",
       "      <td>38</td>\n",
       "      <td>True</td>\n",
       "      <td>False</td>\n",
       "    </tr>\n",
       "    <tr>\n",
       "      <th>2</th>\n",
       "      <td>377</td>\n",
       "      <td>gate_40</td>\n",
       "      <td>165</td>\n",
       "      <td>True</td>\n",
       "      <td>False</td>\n",
       "    </tr>\n",
       "    <tr>\n",
       "      <th>3</th>\n",
       "      <td>483</td>\n",
       "      <td>gate_40</td>\n",
       "      <td>1</td>\n",
       "      <td>False</td>\n",
       "      <td>False</td>\n",
       "    </tr>\n",
       "    <tr>\n",
       "      <th>4</th>\n",
       "      <td>488</td>\n",
       "      <td>gate_40</td>\n",
       "      <td>179</td>\n",
       "      <td>True</td>\n",
       "      <td>True</td>\n",
       "    </tr>\n",
       "  </tbody>\n",
       "</table>\n",
       "</div>"
      ],
      "text/plain": [
       "   userid  version  sum_gamerounds  retention_1  retention_7\n",
       "0     116  gate_30               3        False        False\n",
       "1     337  gate_30              38         True        False\n",
       "2     377  gate_40             165         True        False\n",
       "3     483  gate_40               1        False        False\n",
       "4     488  gate_40             179         True         True"
      ]
     },
     "execution_count": 1,
     "metadata": {},
     "output_type": "execute_result"
    }
   ],
   "source": [
    "# Import Pandas, NumPy, Matplotlib and Seaborn\n",
    "import pandas as pd\n",
    "import numpy as np\n",
    "import matplotlib.pyplot as plt\n",
    "import seaborn as sns\n",
    "\n",
    "# Load the data and show the first few lines\n",
    "test_data = pd.read_csv('datasets/cookie_cats.csv')\n",
    "test_data.head()"
   ]
  },
  {
   "cell_type": "markdown",
   "metadata": {},
   "source": [
    "This dataset is originally from a DataCamp project, and here's its description:\n",
    "\n",
    "<blockquote><p>The data we have is from 90,189 players that installed the game while the AB-test was running. The variables are:</p>\n",
    "<ul>\n",
    "<li><code>userid</code> - a unique number that identifies each player.</li>\n",
    "<li><code>version</code> - whether the player was put in the control group (<code>gate_30</code> - a gate at level 30) or the group with the moved gate (<code>gate_40</code> - a gate at level 40).</li>\n",
    "<li><code>sum_gamerounds</code> - the number of game rounds played by the player during the first 14 days after install.</li>\n",
    "<li><code>retention_1</code> - did the player come back and play <strong>1 day</strong> after installing?</li>\n",
    "<li><code>retention_7</code> - did the player come back and play <strong>7 days</strong> after installing?</li>\n",
    "</ul>\n",
    "<p>When a player installed the game, he or she was randomly assigned to either <code>gate_30</code> or <code>gate_40</code>.</blockquote>\n",
    "\n",
    "The data tracks players for 14 days after the game installation with the columns indicating the player ID, test group they were assigned (gate 30 or 40), total number of rounds played (NOT levels passed), and whether the player returned 1 day or 7 days after installing the game.  \n",
    "\n",
    "For the purposes of the analysis, there is an important assumption about the last two variables that I will make: ```retention_1``` and  ```retention_7``` indicate whether the player returned exactly 1 and 7 days after the installation respectively and nothing else. We can't use that information to infer any kind of playing habit. For all we know, a player could have played everyday during the 14 days except days 1 and 7, and the data will show ```False``` for those two variables, just like someone could have played a single round on day 7 and uninstalled the game, and the data will show ```False``` for ```retention_1``` and ```True``` for ```retention_7``` for that user.\n",
    "\n",
    "Another assumption I will make is that all the players that downloaded the game during the test period were tracked for 14 days after the installation no matter when exactly they installed the game."
   ]
  },
  {
   "cell_type": "markdown",
   "metadata": {},
   "source": [
    "For the first step, let's use Panda's ```.info()``` method to check the data for missing values."
   ]
  },
  {
   "cell_type": "code",
   "execution_count": 2,
   "metadata": {
    "scrolled": true
   },
   "outputs": [
    {
     "name": "stdout",
     "output_type": "stream",
     "text": [
      "<class 'pandas.core.frame.DataFrame'>\n",
      "RangeIndex: 90189 entries, 0 to 90188\n",
      "Data columns (total 5 columns):\n",
      " #   Column          Non-Null Count  Dtype \n",
      "---  ------          --------------  ----- \n",
      " 0   userid          90189 non-null  int64 \n",
      " 1   version         90189 non-null  object\n",
      " 2   sum_gamerounds  90189 non-null  int64 \n",
      " 3   retention_1     90189 non-null  bool  \n",
      " 4   retention_7     90189 non-null  bool  \n",
      "dtypes: bool(2), int64(2), object(1)\n",
      "memory usage: 2.2+ MB\n"
     ]
    }
   ],
   "source": [
    "test_data.info()"
   ]
  },
  {
   "cell_type": "markdown",
   "metadata": {},
   "source": [
    "There are no missing values, so we can move on.  \n",
    "\n",
    "One thing about this dataset is that even though we know which player was assigned to what group, we don't know if they actually experienced the feature since we don't know what was the furthest level they reached while the data was recorded.The only approximation we have is ```sum_gamerounds```, so I'll explore that next."
   ]
  },
  {
   "cell_type": "markdown",
   "metadata": {},
   "source": [
    "Let's look at the far end first and check out the players with 15 most rounds played."
   ]
  },
  {
   "cell_type": "code",
   "execution_count": 3,
   "metadata": {},
   "outputs": [
    {
     "data": {
      "text/html": [
       "<div>\n",
       "<style scoped>\n",
       "    .dataframe tbody tr th:only-of-type {\n",
       "        vertical-align: middle;\n",
       "    }\n",
       "\n",
       "    .dataframe tbody tr th {\n",
       "        vertical-align: top;\n",
       "    }\n",
       "\n",
       "    .dataframe thead th {\n",
       "        text-align: right;\n",
       "    }\n",
       "</style>\n",
       "<table border=\"1\" class=\"dataframe\">\n",
       "  <thead>\n",
       "    <tr style=\"text-align: right;\">\n",
       "      <th></th>\n",
       "      <th>userid</th>\n",
       "      <th>version</th>\n",
       "      <th>sum_gamerounds</th>\n",
       "      <th>retention_1</th>\n",
       "      <th>retention_7</th>\n",
       "    </tr>\n",
       "  </thead>\n",
       "  <tbody>\n",
       "    <tr>\n",
       "      <th>57702</th>\n",
       "      <td>6390605</td>\n",
       "      <td>gate_30</td>\n",
       "      <td>49854</td>\n",
       "      <td>False</td>\n",
       "      <td>True</td>\n",
       "    </tr>\n",
       "    <tr>\n",
       "      <th>7912</th>\n",
       "      <td>871500</td>\n",
       "      <td>gate_30</td>\n",
       "      <td>2961</td>\n",
       "      <td>True</td>\n",
       "      <td>True</td>\n",
       "    </tr>\n",
       "    <tr>\n",
       "      <th>29417</th>\n",
       "      <td>3271615</td>\n",
       "      <td>gate_40</td>\n",
       "      <td>2640</td>\n",
       "      <td>True</td>\n",
       "      <td>False</td>\n",
       "    </tr>\n",
       "    <tr>\n",
       "      <th>43671</th>\n",
       "      <td>4832608</td>\n",
       "      <td>gate_30</td>\n",
       "      <td>2438</td>\n",
       "      <td>True</td>\n",
       "      <td>True</td>\n",
       "    </tr>\n",
       "    <tr>\n",
       "      <th>48188</th>\n",
       "      <td>5346171</td>\n",
       "      <td>gate_40</td>\n",
       "      <td>2294</td>\n",
       "      <td>True</td>\n",
       "      <td>True</td>\n",
       "    </tr>\n",
       "    <tr>\n",
       "      <th>46344</th>\n",
       "      <td>5133952</td>\n",
       "      <td>gate_30</td>\n",
       "      <td>2251</td>\n",
       "      <td>True</td>\n",
       "      <td>True</td>\n",
       "    </tr>\n",
       "    <tr>\n",
       "      <th>87007</th>\n",
       "      <td>9640085</td>\n",
       "      <td>gate_30</td>\n",
       "      <td>2156</td>\n",
       "      <td>True</td>\n",
       "      <td>True</td>\n",
       "    </tr>\n",
       "    <tr>\n",
       "      <th>36933</th>\n",
       "      <td>4090246</td>\n",
       "      <td>gate_40</td>\n",
       "      <td>2124</td>\n",
       "      <td>True</td>\n",
       "      <td>True</td>\n",
       "    </tr>\n",
       "    <tr>\n",
       "      <th>88328</th>\n",
       "      <td>9791599</td>\n",
       "      <td>gate_40</td>\n",
       "      <td>2063</td>\n",
       "      <td>True</td>\n",
       "      <td>True</td>\n",
       "    </tr>\n",
       "    <tr>\n",
       "      <th>6536</th>\n",
       "      <td>725080</td>\n",
       "      <td>gate_40</td>\n",
       "      <td>2015</td>\n",
       "      <td>True</td>\n",
       "      <td>True</td>\n",
       "    </tr>\n",
       "    <tr>\n",
       "      <th>655</th>\n",
       "      <td>69927</td>\n",
       "      <td>gate_30</td>\n",
       "      <td>1906</td>\n",
       "      <td>True</td>\n",
       "      <td>True</td>\n",
       "    </tr>\n",
       "    <tr>\n",
       "      <th>18586</th>\n",
       "      <td>2067556</td>\n",
       "      <td>gate_40</td>\n",
       "      <td>1816</td>\n",
       "      <td>True</td>\n",
       "      <td>True</td>\n",
       "    </tr>\n",
       "    <tr>\n",
       "      <th>27515</th>\n",
       "      <td>3064157</td>\n",
       "      <td>gate_30</td>\n",
       "      <td>1714</td>\n",
       "      <td>True</td>\n",
       "      <td>True</td>\n",
       "    </tr>\n",
       "    <tr>\n",
       "      <th>13320</th>\n",
       "      <td>1476122</td>\n",
       "      <td>gate_30</td>\n",
       "      <td>1705</td>\n",
       "      <td>True</td>\n",
       "      <td>True</td>\n",
       "    </tr>\n",
       "    <tr>\n",
       "      <th>11858</th>\n",
       "      <td>1310015</td>\n",
       "      <td>gate_40</td>\n",
       "      <td>1697</td>\n",
       "      <td>True</td>\n",
       "      <td>True</td>\n",
       "    </tr>\n",
       "  </tbody>\n",
       "</table>\n",
       "</div>"
      ],
      "text/plain": [
       "        userid  version  sum_gamerounds  retention_1  retention_7\n",
       "57702  6390605  gate_30           49854        False         True\n",
       "7912    871500  gate_30            2961         True         True\n",
       "29417  3271615  gate_40            2640         True        False\n",
       "43671  4832608  gate_30            2438         True         True\n",
       "48188  5346171  gate_40            2294         True         True\n",
       "46344  5133952  gate_30            2251         True         True\n",
       "87007  9640085  gate_30            2156         True         True\n",
       "36933  4090246  gate_40            2124         True         True\n",
       "88328  9791599  gate_40            2063         True         True\n",
       "6536    725080  gate_40            2015         True         True\n",
       "655      69927  gate_30            1906         True         True\n",
       "18586  2067556  gate_40            1816         True         True\n",
       "27515  3064157  gate_30            1714         True         True\n",
       "13320  1476122  gate_30            1705         True         True\n",
       "11858  1310015  gate_40            1697         True         True"
      ]
     },
     "execution_count": 3,
     "metadata": {},
     "output_type": "execute_result"
    }
   ],
   "source": [
    "# Sort test_data by sum_gamerounds in descending order and return the top 15\n",
    "test_data.sort_values(by='sum_gamerounds', ascending=False).head(15)"
   ]
  },
  {
   "cell_type": "markdown",
   "metadata": {},
   "source": [
    "A few observations:\n",
    "- From the 15 players with most rounds played, 10 played over 2000 rounds.\n",
    "- The highest number or rounds played is 49,845! That's 3561 per day if we assume those rounds were played over a 14-day span! (Value for ```retention_1``` is ```False``` in that row, so it must have taken less than 14 days.)\n",
    "- There's no other player with over 3,000 total rounds played.\n",
    "\n",
    "The highest number is an outlier (perhaps a glitch or someone trained a bot to play for them), so it would make sense to drop it from the data if I want to compare numbers of rounds played between groups later."
   ]
  },
  {
   "cell_type": "code",
   "execution_count": 4,
   "metadata": {},
   "outputs": [],
   "source": [
    "# Drop the value at index 57702\n",
    "test_data.drop(57702, inplace = True)"
   ]
  },
  {
   "cell_type": "markdown",
   "metadata": {},
   "source": [
    "Let's check out how many players have played over 500 rounds total, or more than 35 rounds per day assuming they played for the whole 14 days."
   ]
  },
  {
   "cell_type": "code",
   "execution_count": 5,
   "metadata": {
    "scrolled": true
   },
   "outputs": [
    {
     "data": {
      "text/html": [
       "<div>\n",
       "<style scoped>\n",
       "    .dataframe tbody tr th:only-of-type {\n",
       "        vertical-align: middle;\n",
       "    }\n",
       "\n",
       "    .dataframe tbody tr th {\n",
       "        vertical-align: top;\n",
       "    }\n",
       "\n",
       "    .dataframe thead th {\n",
       "        text-align: right;\n",
       "    }\n",
       "</style>\n",
       "<table border=\"1\" class=\"dataframe\">\n",
       "  <thead>\n",
       "    <tr style=\"text-align: right;\">\n",
       "      <th></th>\n",
       "      <th>userid</th>\n",
       "      <th>sum_gamerounds</th>\n",
       "      <th>retention_1</th>\n",
       "      <th>retention_7</th>\n",
       "    </tr>\n",
       "    <tr>\n",
       "      <th>version</th>\n",
       "      <th></th>\n",
       "      <th></th>\n",
       "      <th></th>\n",
       "      <th></th>\n",
       "    </tr>\n",
       "  </thead>\n",
       "  <tbody>\n",
       "    <tr>\n",
       "      <th>gate_30</th>\n",
       "      <td>426</td>\n",
       "      <td>426</td>\n",
       "      <td>426</td>\n",
       "      <td>426</td>\n",
       "    </tr>\n",
       "    <tr>\n",
       "      <th>gate_40</th>\n",
       "      <td>429</td>\n",
       "      <td>429</td>\n",
       "      <td>429</td>\n",
       "      <td>429</td>\n",
       "    </tr>\n",
       "  </tbody>\n",
       "</table>\n",
       "</div>"
      ],
      "text/plain": [
       "         userid  sum_gamerounds  retention_1  retention_7\n",
       "version                                                  \n",
       "gate_30     426             426          426          426\n",
       "gate_40     429             429          429          429"
      ]
     },
     "execution_count": 5,
     "metadata": {},
     "output_type": "execute_result"
    }
   ],
   "source": [
    "# Get rows with values more than 500 for sum_gamerounds, group by version, and count the rows \n",
    "test_data.query('sum_gamerounds > 500').groupby('version').count()"
   ]
  },
  {
   "cell_type": "markdown",
   "metadata": {},
   "source": [
    "There are 855 players, less than 1% of the total, with more than 500 rounds played."
   ]
  },
  {
   "cell_type": "markdown",
   "metadata": {},
   "source": [
    "In the next step, let's check out the distribution of players who played 200 rounds or less by plotting a histogram."
   ]
  },
  {
   "cell_type": "code",
   "execution_count": 6,
   "metadata": {
    "scrolled": false
   },
   "outputs": [
    {
     "data": {
      "image/png": "[encoded data removed]",
      "text/plain": [
       "<Figure size 720x432 with 1 Axes>"
      ]
     },
     "metadata": {
      "needs_background": "light"
     },
     "output_type": "display_data"
    }
   ],
   "source": [
    "# Set figure size for better visibility\n",
    "plt.figure(figsize=(10,6))\n",
    "\n",
    "# Plot the distribution histogram with bin width of 5 and set labels\n",
    "sns.histplot(data=test_data, x = 'sum_gamerounds', binwidth = 5, binrange = (0, 200))\n",
    "plt.title('Distribution of Players with up to 200 Rounds Played')\n",
    "plt.xlabel('Rounds played')\n",
    "plt.ylabel('Number or players');"
   ]
  },
  {
   "cell_type": "markdown",
   "metadata": {},
   "source": [
    "A good chunk of players stopped playing before completing 30 rounds. Let's zoom in on them."
   ]
  },
  {
   "cell_type": "code",
   "execution_count": 7,
   "metadata": {
    "scrolled": false
   },
   "outputs": [
    {
     "data": {
      "image/png": "[encoded data removed]",
      "text/plain": [
       "<Figure size 720x432 with 1 Axes>"
      ]
     },
     "metadata": {
      "needs_background": "light"
     },
     "output_type": "display_data"
    }
   ],
   "source": [
    "# Set figure size for better visibility\n",
    "plt.figure(figsize=(10,6))\n",
    "\n",
    "# Subset the data\n",
    "data=test_data.query('sum_gamerounds < 31')\n",
    "\n",
    "# Plot the distribution histogram with bin width of 1 and set labels\n",
    "# Binrange is set to (0, 31), otherwise seaborn stacks bins 29 and 30\n",
    "sns.histplot(data=data, x = 'sum_gamerounds', binwidth = 1, binrange = (0, 31))\n",
    "plt.title('Distribution of Players with up to 30 Rounds Played')\n",
    "plt.xlabel('Rounds played')\n",
    "plt.ylabel('Number or players');"
   ]
  },
  {
   "cell_type": "markdown",
   "metadata": {},
   "source": [
    "Looks like about 4,000 users installed the game but never played a single round. We can drop them from the dataset."
   ]
  },
  {
   "cell_type": "code",
   "execution_count": 8,
   "metadata": {
    "scrolled": true
   },
   "outputs": [
    {
     "name": "stdout",
     "output_type": "stream",
     "text": [
      "Remaining number of rows: 86194\n"
     ]
    }
   ],
   "source": [
    "test_data.drop(test_data.query('sum_gamerounds == 0').index, inplace = True)\n",
    "print(f'Remaining number of rows: {len(test_data)}')"
   ]
  },
  {
   "cell_type": "markdown",
   "metadata": {},
   "source": [
    "I'll also compare ```sum_gamerounds``` by version among players with up to 100 rounds played."
   ]
  },
  {
   "cell_type": "code",
   "execution_count": 9,
   "metadata": {
    "scrolled": false
   },
   "outputs": [
    {
     "data": {
      "image/png": "[encoded data removed]",
      "text/plain": [
       "<Figure size 720x432 with 1 Axes>"
      ]
     },
     "metadata": {
      "needs_background": "light"
     },
     "output_type": "display_data"
    }
   ],
   "source": [
    "# Split the data by group\n",
    "gate_30_30 = test_data.query('version == \"gate_30\" & sum_gamerounds < 101').groupby('sum_gamerounds')['userid'].count()\n",
    "gate_40_30 = test_data.query('version == \"gate_40\" & sum_gamerounds < 101').groupby('sum_gamerounds')['userid'].count()\n",
    "\n",
    "# Set figure size for better visibility\n",
    "plt.figure(figsize=(10,6))\n",
    "\n",
    "# Plot the data and label things\n",
    "sns.scatterplot(data = gate_30_30, label = 'gate_30')\n",
    "sns.scatterplot(data = gate_40_30, label = 'gate_40')\n",
    "plt.title('Distribution of Players with up to 100 Rounds Played by Version')\n",
    "plt.xlabel('Rounds played')\n",
    "plt.ylabel('Number or players')\n",
    "plt.legend();"
   ]
  },
  {
   "cell_type": "markdown",
   "metadata": {},
   "source": [
    "Those numbers appear to be pretty similar with what looks like a little bump for ```gate_30``` version in the 30-40 rounds range.  "
   ]
  },
  {
   "cell_type": "markdown",
   "metadata": {},
   "source": [
    "(I take a bit of a probability detour here that does not impact the analysis, so you can skip this cell and the next two plots if you'd like.)  \n",
    "\n",
    "As I mentioned earlier, the dataset does not tell us whether a player actually experienced the feature or not since we don't know how many levels they completed, and the closest approximation we have is the number of rounds they played. So, the more rounds they played, the higher the likelihood they played enough to reach levels 30 and 40.\n",
    "\n",
    "We can model that probability using binomial distribution.  \n",
    "\n",
    "If we have  \n",
    "\n",
    "$$\n",
    "p = \\text{probability of beating a level,}\\\\  \n",
    "n = \\text{number of rounds played,}\\\\  \n",
    "k = \\text{number of successful rounds,}  \n",
    "$$  \n",
    "then the probability of beating $k$ levels in $n$ rounds played is given by  \n",
    "\n",
    "$$\n",
    "\\mathbb{P}(X=k)=\\binom{n}{k}p^k(1-p)^{n-k}=\\frac{n!}{k!(n-k)!}p^k(1-p)^{n-k}\n",
    "$$  \n",
    "\n",
    "and the probability of beating $\\textbf{k}$ **or more** levels in $n$ rounds is  \n",
    "$$\n",
    "\\mathbb{P}(X\\geq k)=\\mathbb{P}(X=k)+\\mathbb{P}(X=k+1)\\,+\\,...\\,+\\,\\mathbb{P}(X=n)=\\sum_{i=k}^{n}\\binom{n}{i}p^i(1-p)^{n-i}\n",
    "$$  \n",
    "Furthermore,\n",
    "$$\n",
    "\\mathbb{P}(X\\geq k)=1-\\mathbb{P}(X\\leq k)+\\mathbb{P}(X=k)\n",
    "$$  \n",
    "where $\\mathbb{P}(X\\leq k)$ is the cumulative distribution function and $\\mathbb{P}(X=k)$ is the probability mass function of $X$.  \n",
    "\n",
    "To help visualize how probability of beating a certain number of levels increases with the number of rounds played, I'll plot $\\mathbb{P}(X\\geq k|n,p)$ with $k=30$, $n=100$, and $p\\in\\{0.25, 0.5, 0.75, 1\\}$."
   ]
  },
  {
   "cell_type": "code",
   "execution_count": 10,
   "metadata": {
    "scrolled": false
   },
   "outputs": [
    {
     "data": {
      "image/png": "[encoded data removed]",
      "text/plain": [
       "<Figure size 720x432 with 1 Axes>"
      ]
     },
     "metadata": {
      "needs_background": "light"
     },
     "output_type": "display_data"
    }
   ],
   "source": [
    "# Import scipy.stats.binom to use cdf and pmf functions instead of calculating things manually\n",
    "from scipy.stats import binom\n",
    "\n",
    "# Set figure size for better visibility\n",
    "plt.figure(figsize=(10,6))\n",
    "\n",
    "# Plot lines for p = 0.25, 0.5, 0.25, and 1 (k=30, n=100 for all 4)\n",
    "sns.lineplot(x = range(1,101), y = [1-binom.cdf(30, x, 0.25)+binom.pmf(30, x, 0.25) for x in range(1, 101)])\n",
    "sns.lineplot(x = range(1,101), y = [1-binom.cdf(30, x, 0.5)+binom.pmf(30, x, 0.5) for x in range(1, 101)])\n",
    "sns.lineplot(x = range(1,101), y = [1-binom.cdf(30, x, 0.75)+binom.pmf(30, x, 0.75) for x in range(1, 101)])\n",
    "sns.lineplot(x = range(1,101), y = [1-binom.cdf(30, x, 1)+binom.pmf(30, x, 1) for x in range(1, 101)])\n",
    "\n",
    "# Add a vertical line at 30 rounds played and adjust X-axis ticks\n",
    "plt.axvline(30, linestyle = ':')\n",
    "plt.xticks(range(0, 101, 10))\n",
    "\n",
    "# Set legend, title, and axis labels\n",
    "plt.legend(labels = ['p = 0.25', 'p = 0.5', 'p = 0.75', 'p = 1'])\n",
    "plt.title('Probability of Beating 30 or More Levels')\n",
    "plt.xlabel('Number of Rounds Played')\n",
    "plt.ylabel('Probability');"
   ]
  },
  {
   "cell_type": "markdown",
   "metadata": {},
   "source": [
    "Let's also make a similar plot for 40 rounds."
   ]
  },
  {
   "cell_type": "code",
   "execution_count": 11,
   "metadata": {
    "scrolled": false
   },
   "outputs": [
    {
     "data": {
      "image/png": "[encoded data removed]",
      "text/plain": [
       "<Figure size 720x432 with 1 Axes>"
      ]
     },
     "metadata": {
      "needs_background": "light"
     },
     "output_type": "display_data"
    }
   ],
   "source": [
    "# Set figure size for better visibility\n",
    "plt.figure(figsize=(10,6))\n",
    "\n",
    "# Plot lines for p = 0.25, 0.5, 0.25, and 1 (k=30, n=100 for all 4)\n",
    "sns.lineplot(x = range(1,101), y = [1-binom.cdf(40, x, 0.25)+binom.pmf(40, x, 0.25) for x in range(1, 101)])\n",
    "sns.lineplot(x = range(1,101), y = [1-binom.cdf(40, x, 0.5)+binom.pmf(40, x, 0.5) for x in range(1, 101)])\n",
    "sns.lineplot(x = range(1,101), y = [1-binom.cdf(40, x, 0.75)+binom.pmf(40, x, 0.75) for x in range(1, 101)])\n",
    "sns.lineplot(x = range(1,101), y = [1-binom.cdf(40, x, 1)+binom.pmf(40, x, 1) for x in range(1, 101)])\n",
    "\n",
    "# Add a vertical line at 40 rounds played\n",
    "plt.axvline(40, linestyle = ':')\n",
    "# Set legend, title, and axis labels\n",
    "plt.legend(labels = ['p = 0.25', 'p = 0.5', 'p = 0.75', 'p = 1'])\n",
    "plt.title('Probability of Beating 40 or More Levels')\n",
    "plt.xlabel('Number of Rounds Played')\n",
    "plt.ylabel('Probability');"
   ]
  },
  {
   "cell_type": "markdown",
   "metadata": {},
   "source": [
    "(Back to the analysis.)  \n",
    "\n",
    "Since we don't know our population $p$ value, 30 rounds played is an important benchmark because it will take a player that was assigned to the group 'gate_30' at least 30 rounds to beat 30 levels to reach the gate. Also, since the features of the gates for both groups are the same (same wait time or in-app purchase price), we are measuring the effect of the 10 level difference, and not the gates themselves.  \n",
    "\n",
    "Another point to consider is that the high dropout rate after very few rounds played is most likely due to the players not having enough interest in the game itself, and the location of the gates probably makes no difference.    \n",
    "\n",
    "Typically, including players that never experienced a feature in calculations would be similar to measuring the effectiveness of a drug by using participants who were assigned to the experimental group without actually being administered the drug. However, since I don't know the exact format of the experiment, there might have been an effect on player behavior caused by them simply being in a certain group. For example, if seeing a gate affects overall motivation levels of a player to continue playing, players in ```gate_30``` group would get that \"motivation boost/drop\" sooner than players in ```gate_40``` and it could affect behavior of players who never reached the gate. On the other hand, the two versions could be visually identical and the feature would turn on only after beating the appropriate level. \n",
    "\n",
    "Using that as my reasoning, I will create a subset of the dataset with players who played at least 30 rounds, do the same comparisons between groups on the subset and the dataset, and see if there are any interesting insights."
   ]
  },
  {
   "cell_type": "code",
   "execution_count": 12,
   "metadata": {},
   "outputs": [],
   "source": [
    "# Remove all rows with less than 30 rounds played from test_data in-place\n",
    "test_data_30 = test_data.drop(test_data.query('sum_gamerounds < 30').index)"
   ]
  },
  {
   "cell_type": "markdown",
   "metadata": {},
   "source": [
    "Let's check ```test_data_30``` to make sure the drop went smoothly."
   ]
  },
  {
   "cell_type": "code",
   "execution_count": 13,
   "metadata": {
    "scrolled": false
   },
   "outputs": [
    {
     "name": "stdout",
     "output_type": "stream",
     "text": [
      "Players with less than 30 rounds played:\n"
     ]
    },
    {
     "data": {
      "text/html": [
       "<div>\n",
       "<style scoped>\n",
       "    .dataframe tbody tr th:only-of-type {\n",
       "        vertical-align: middle;\n",
       "    }\n",
       "\n",
       "    .dataframe tbody tr th {\n",
       "        vertical-align: top;\n",
       "    }\n",
       "\n",
       "    .dataframe thead th {\n",
       "        text-align: right;\n",
       "    }\n",
       "</style>\n",
       "<table border=\"1\" class=\"dataframe\">\n",
       "  <thead>\n",
       "    <tr style=\"text-align: right;\">\n",
       "      <th></th>\n",
       "      <th>userid</th>\n",
       "      <th>version</th>\n",
       "      <th>sum_gamerounds</th>\n",
       "      <th>retention_1</th>\n",
       "      <th>retention_7</th>\n",
       "    </tr>\n",
       "  </thead>\n",
       "  <tbody>\n",
       "  </tbody>\n",
       "</table>\n",
       "</div>"
      ],
      "text/plain": [
       "Empty DataFrame\n",
       "Columns: [userid, version, sum_gamerounds, retention_1, retention_7]\n",
       "Index: []"
      ]
     },
     "metadata": {},
     "output_type": "display_data"
    },
    {
     "name": "stdout",
     "output_type": "stream",
     "text": [
      "\n",
      "Players with less than 31 rounds played:\n"
     ]
    },
    {
     "data": {
      "text/html": [
       "<div>\n",
       "<style scoped>\n",
       "    .dataframe tbody tr th:only-of-type {\n",
       "        vertical-align: middle;\n",
       "    }\n",
       "\n",
       "    .dataframe tbody tr th {\n",
       "        vertical-align: top;\n",
       "    }\n",
       "\n",
       "    .dataframe thead th {\n",
       "        text-align: right;\n",
       "    }\n",
       "</style>\n",
       "<table border=\"1\" class=\"dataframe\">\n",
       "  <thead>\n",
       "    <tr style=\"text-align: right;\">\n",
       "      <th></th>\n",
       "      <th>userid</th>\n",
       "      <th>version</th>\n",
       "      <th>sum_gamerounds</th>\n",
       "      <th>retention_1</th>\n",
       "      <th>retention_7</th>\n",
       "    </tr>\n",
       "  </thead>\n",
       "  <tbody>\n",
       "    <tr>\n",
       "      <th>12</th>\n",
       "      <td>2132</td>\n",
       "      <td>gate_40</td>\n",
       "      <td>30</td>\n",
       "      <td>True</td>\n",
       "      <td>False</td>\n",
       "    </tr>\n",
       "    <tr>\n",
       "      <th>338</th>\n",
       "      <td>33954</td>\n",
       "      <td>gate_40</td>\n",
       "      <td>30</td>\n",
       "      <td>True</td>\n",
       "      <td>False</td>\n",
       "    </tr>\n",
       "    <tr>\n",
       "      <th>388</th>\n",
       "      <td>38249</td>\n",
       "      <td>gate_40</td>\n",
       "      <td>30</td>\n",
       "      <td>True</td>\n",
       "      <td>False</td>\n",
       "    </tr>\n",
       "    <tr>\n",
       "      <th>705</th>\n",
       "      <td>76662</td>\n",
       "      <td>gate_40</td>\n",
       "      <td>30</td>\n",
       "      <td>True</td>\n",
       "      <td>False</td>\n",
       "    </tr>\n",
       "    <tr>\n",
       "      <th>911</th>\n",
       "      <td>101864</td>\n",
       "      <td>gate_40</td>\n",
       "      <td>30</td>\n",
       "      <td>False</td>\n",
       "      <td>False</td>\n",
       "    </tr>\n",
       "  </tbody>\n",
       "</table>\n",
       "</div>"
      ],
      "text/plain": [
       "     userid  version  sum_gamerounds  retention_1  retention_7\n",
       "12     2132  gate_40              30         True        False\n",
       "338   33954  gate_40              30         True        False\n",
       "388   38249  gate_40              30         True        False\n",
       "705   76662  gate_40              30         True        False\n",
       "911  101864  gate_40              30        False        False"
      ]
     },
     "execution_count": 13,
     "metadata": {},
     "output_type": "execute_result"
    }
   ],
   "source": [
    "print('Players with less than 30 rounds played:')\n",
    "display(test_data_30.query('sum_gamerounds < 30').head())\n",
    "print('\\nPlayers with less than 31 rounds played:')\n",
    "test_data_30.query('sum_gamerounds < 31').head()"
   ]
  },
  {
   "cell_type": "markdown",
   "metadata": {},
   "source": [
    "Now I have two dataframes: ```test_data``` with players who played at least 1 round, and ```test_data_30``` with players who played at least 30 rounds. Let's check both of them to see how many players we have assigned to each group."
   ]
  },
  {
   "cell_type": "code",
   "execution_count": 14,
   "metadata": {},
   "outputs": [
    {
     "data": {
      "text/html": [
       "<div>\n",
       "<style scoped>\n",
       "    .dataframe tbody tr th:only-of-type {\n",
       "        vertical-align: middle;\n",
       "    }\n",
       "\n",
       "    .dataframe tbody tr th {\n",
       "        vertical-align: top;\n",
       "    }\n",
       "\n",
       "    .dataframe thead th {\n",
       "        text-align: right;\n",
       "    }\n",
       "</style>\n",
       "<table border=\"1\" class=\"dataframe\">\n",
       "  <thead>\n",
       "    <tr style=\"text-align: right;\">\n",
       "      <th></th>\n",
       "      <th>userid</th>\n",
       "      <th>sum_gamerounds</th>\n",
       "      <th>retention_1</th>\n",
       "      <th>retention_7</th>\n",
       "    </tr>\n",
       "    <tr>\n",
       "      <th>version</th>\n",
       "      <th></th>\n",
       "      <th></th>\n",
       "      <th></th>\n",
       "      <th></th>\n",
       "    </tr>\n",
       "  </thead>\n",
       "  <tbody>\n",
       "    <tr>\n",
       "      <th>gate_30</th>\n",
       "      <td>42762</td>\n",
       "      <td>42762</td>\n",
       "      <td>42762</td>\n",
       "      <td>42762</td>\n",
       "    </tr>\n",
       "    <tr>\n",
       "      <th>gate_40</th>\n",
       "      <td>43432</td>\n",
       "      <td>43432</td>\n",
       "      <td>43432</td>\n",
       "      <td>43432</td>\n",
       "    </tr>\n",
       "  </tbody>\n",
       "</table>\n",
       "</div>"
      ],
      "text/plain": [
       "         userid  sum_gamerounds  retention_1  retention_7\n",
       "version                                                  \n",
       "gate_30   42762           42762        42762        42762\n",
       "gate_40   43432           43432        43432        43432"
      ]
     },
     "metadata": {},
     "output_type": "display_data"
    },
    {
     "data": {
      "text/html": [
       "<div>\n",
       "<style scoped>\n",
       "    .dataframe tbody tr th:only-of-type {\n",
       "        vertical-align: middle;\n",
       "    }\n",
       "\n",
       "    .dataframe tbody tr th {\n",
       "        vertical-align: top;\n",
       "    }\n",
       "\n",
       "    .dataframe thead th {\n",
       "        text-align: right;\n",
       "    }\n",
       "</style>\n",
       "<table border=\"1\" class=\"dataframe\">\n",
       "  <thead>\n",
       "    <tr style=\"text-align: right;\">\n",
       "      <th></th>\n",
       "      <th>userid</th>\n",
       "      <th>sum_gamerounds</th>\n",
       "      <th>retention_1</th>\n",
       "      <th>retention_7</th>\n",
       "    </tr>\n",
       "    <tr>\n",
       "      <th>version</th>\n",
       "      <th></th>\n",
       "      <th></th>\n",
       "      <th></th>\n",
       "      <th></th>\n",
       "    </tr>\n",
       "  </thead>\n",
       "  <tbody>\n",
       "    <tr>\n",
       "      <th>gate_30</th>\n",
       "      <td>16655</td>\n",
       "      <td>16655</td>\n",
       "      <td>16655</td>\n",
       "      <td>16655</td>\n",
       "    </tr>\n",
       "    <tr>\n",
       "      <th>gate_40</th>\n",
       "      <td>16613</td>\n",
       "      <td>16613</td>\n",
       "      <td>16613</td>\n",
       "      <td>16613</td>\n",
       "    </tr>\n",
       "  </tbody>\n",
       "</table>\n",
       "</div>"
      ],
      "text/plain": [
       "         userid  sum_gamerounds  retention_1  retention_7\n",
       "version                                                  \n",
       "gate_30   16655           16655        16655        16655\n",
       "gate_40   16613           16613        16613        16613"
      ]
     },
     "execution_count": 14,
     "metadata": {},
     "output_type": "execute_result"
    }
   ],
   "source": [
    "display(test_data.groupby('version').count())\n",
    "test_data_30.groupby('version').count()"
   ]
  },
  {
   "cell_type": "markdown",
   "metadata": {},
   "source": [
    "There's a difference of 670 in the bigger dataset, but that won't be a problem since the samples are large. The smaller one has a difference of 42."
   ]
  },
  {
   "cell_type": "markdown",
   "metadata": {},
   "source": [
    "I'll compare ```retention_1``` by group next, but before doing that, I'll state my hypotheses (both are ```test_data``` and ```test_data_30```).  \n",
    "\n",
    "$$H_0:\\mu_{gate\\_30}=\\mu_{gate\\_40}$$\n",
    "$$H_a:\\mu_{gate\\_30}\\ne\\mu_{gate\\_40}$$  \n",
    "\n",
    "I'll use $\\alpha$ = 0.05. Since the alternative hypothesis calls for a two-tailed test, it's 0.025 in each tail."
   ]
  },
  {
   "cell_type": "code",
   "execution_count": 15,
   "metadata": {},
   "outputs": [
    {
     "data": {
      "text/plain": [
       "version\n",
       "gate_30    0.467541\n",
       "gate_40    0.462171\n",
       "Name: retention_1, dtype: float64"
      ]
     },
     "execution_count": 15,
     "metadata": {},
     "output_type": "execute_result"
    }
   ],
   "source": [
    "test_data.groupby('version')['retention_1'].mean()"
   ]
  },
  {
   "cell_type": "code",
   "execution_count": 16,
   "metadata": {},
   "outputs": [
    {
     "data": {
      "text/plain": [
       "version\n",
       "gate_30    0.801021\n",
       "gate_40    0.801842\n",
       "Name: retention_1, dtype: float64"
      ]
     },
     "execution_count": 16,
     "metadata": {},
     "output_type": "execute_result"
    }
   ],
   "source": [
    "test_data_30.groupby('version')['retention_1'].mean()"
   ]
  },
  {
   "cell_type": "markdown",
   "metadata": {},
   "source": [
    "One-day retention rates are almost identical in ```test_data_30```, so it's safe to assume that the null hypothesis holds there. There's a 0.5% difference in the larger set. That difference is small and is unlikely to be statistically significant, but I'll check anyway.  \n",
    "\n",
    "To do that, I'll use a two proportion Z-test given by  \n",
    "\n",
    "$$Z=\\frac{\\hat{p}_{gate\\_30}-\\hat{p}_{gate\\_40}}{\\sqrt{\\hat{p}(1-\\hat{p})(\\frac{1}{n_{gate\\_30}}+\\frac{1}{n_{gate\\_40}})}}$$  \n",
    "\n",
    "where pooled proportion $\\hat{p}$ is given by  \n",
    "\n",
    "$$\\hat{p}=\\frac{\\hat{p}_{gate\\_30}n_{gate\\_30}+\\hat{p}_{gate\\_40}n_{gate\\_40}} {n_{gate\\_30} + n_{gate\\_40}}$$  \n",
    "\n",
    "and $\\hat{p}_{gate\\_30}$, $\\hat{p}_{gate\\_40}$, $n_{gate\\_30}$ and $n_{gate\\_40}$ refer to the proportions and sample sizes of ```gate_30``` and ```gate_40```.  \n",
    "\n",
    "I can get the Z-score and the p-value using ```proportions_ztest``` from ```statsmodels.stats.proportion```."
   ]
  },
  {
   "cell_type": "code",
   "execution_count": 17,
   "metadata": {},
   "outputs": [
    {
     "name": "stdout",
     "output_type": "stream",
     "text": [
      "Z-score:1.5805887864476007, p-value:0.11397209143329877\n"
     ]
    }
   ],
   "source": [
    "# Import proportions_ztest\n",
    "from statsmodels.stats.proportion import proportions_ztest\n",
    "\n",
    "# Set number of positive outcomes and total numbers of observations as variables,\n",
    "# pass them to proportions_ztest, and print the Z-score and the p-value \n",
    "counts = np.array(test_data.groupby('version')['retention_1'].sum())\n",
    "n_obs = np.array(test_data.groupby('version')['retention_1'].count())\n",
    "stat, pval = proportions_ztest(counts, n_obs)\n",
    "print(f'Z-score:{stat}, p-value:{pval}')"
   ]
  },
  {
   "cell_type": "markdown",
   "metadata": {},
   "source": [
    "Since the p-value is greater than 0.025, we do not reject the null hypothesis. Hence, the means are equal."
   ]
  },
  {
   "cell_type": "markdown",
   "metadata": {},
   "source": [
    "Now, let's check ```retention_7```. My hypotheses are the same as before.  \n",
    "\n",
    "$$\n",
    "H_0:\\mu_{gate\\_30}=\\mu_{gate\\_40}\n",
    "$$\n",
    "$$\n",
    "H_a:\\mu_{gate\\_30}\\ne\\mu_{gate\\_40}\n",
    "$$"
   ]
  },
  {
   "cell_type": "code",
   "execution_count": 18,
   "metadata": {
    "scrolled": true
   },
   "outputs": [
    {
     "data": {
      "text/plain": [
       "version\n",
       "gate_30    0.198424\n",
       "gate_40    0.190321\n",
       "Name: retention_7, dtype: float64"
      ]
     },
     "execution_count": 18,
     "metadata": {},
     "output_type": "execute_result"
    }
   ],
   "source": [
    "test_data.groupby('version')['retention_7'].mean()"
   ]
  },
  {
   "cell_type": "code",
   "execution_count": 19,
   "metadata": {},
   "outputs": [
    {
     "data": {
      "text/plain": [
       "version\n",
       "gate_30    0.438727\n",
       "gate_40    0.430025\n",
       "Name: retention_7, dtype: float64"
      ]
     },
     "execution_count": 19,
     "metadata": {},
     "output_type": "execute_result"
    }
   ],
   "source": [
    "test_data_30.groupby('version')['retention_7'].mean()"
   ]
  },
  {
   "cell_type": "markdown",
   "metadata": {},
   "source": [
    "There are differences of 0.8% in the larger and almost 0.9% in the smaller datasets. Let's test them."
   ]
  },
  {
   "cell_type": "markdown",
   "metadata": {},
   "source": [
    "Larger dataset first."
   ]
  },
  {
   "cell_type": "code",
   "execution_count": 20,
   "metadata": {},
   "outputs": [
    {
     "name": "stdout",
     "output_type": "stream",
     "text": [
      "Z-score:3.006086884574141, p-value:0.002646333709773733\n"
     ]
    }
   ],
   "source": [
    "# Set number of positive outcomes and total numbers of observations as variables,\n",
    "# pass them to proportions_ztest, and print the Z-score and the p-value \n",
    "counts = np.array(test_data.groupby('version')['retention_7'].sum())\n",
    "n_obs = np.array(test_data.groupby('version')['retention_7'].count())\n",
    "stat, pval = proportions_ztest(counts, n_obs)\n",
    "print(f'Z-score:{stat}, p-value:{pval}')"
   ]
  },
  {
   "cell_type": "markdown",
   "metadata": {},
   "source": [
    "Looks like the difference in the large dataset is statistically significant with the p-value of 0.0026, which is less than 0.025. To be sure, I'll also check it with the chi-square test of independence using ```scipy.stats.chi2_contingency```. "
   ]
  },
  {
   "cell_type": "code",
   "execution_count": 21,
   "metadata": {},
   "outputs": [
    {
     "data": {
      "text/plain": [
       "(8.984877907964687,\n",
       " 0.0027222297777463066,\n",
       " 1,\n",
       " array([[34451.60412558,  8310.39587442],\n",
       "        [34991.39587442,  8440.60412558]]))"
      ]
     },
     "execution_count": 21,
     "metadata": {},
     "output_type": "execute_result"
    }
   ],
   "source": [
    "from scipy.stats import chi2_contingency\n",
    "obs = pd.crosstab(test_data['version'], test_data['retention_7']).to_numpy()\n",
    "chi2_contingency(obs)"
   ]
  },
  {
   "cell_type": "markdown",
   "metadata": {},
   "source": [
    "The p-value (second output) is 0.0027 which is also less than 0.025. So, it looks like we will reject the null hypothesis. Just to drive it home. Let's bootstrap the data, and test the bootstrap replicates."
   ]
  },
  {
   "cell_type": "code",
   "execution_count": 22,
   "metadata": {
    "scrolled": false
   },
   "outputs": [
    {
     "data": {
      "text/html": [
       "<div>\n",
       "<style scoped>\n",
       "    .dataframe tbody tr th:only-of-type {\n",
       "        vertical-align: middle;\n",
       "    }\n",
       "\n",
       "    .dataframe tbody tr th {\n",
       "        vertical-align: top;\n",
       "    }\n",
       "\n",
       "    .dataframe thead th {\n",
       "        text-align: right;\n",
       "    }\n",
       "</style>\n",
       "<table border=\"1\" class=\"dataframe\">\n",
       "  <thead>\n",
       "    <tr style=\"text-align: right;\">\n",
       "      <th>version</th>\n",
       "      <th>gate_30</th>\n",
       "      <th>gate_40</th>\n",
       "      <th>difference</th>\n",
       "    </tr>\n",
       "  </thead>\n",
       "  <tbody>\n",
       "    <tr>\n",
       "      <th>retention_7</th>\n",
       "      <td>0.197937</td>\n",
       "      <td>0.188837</td>\n",
       "      <td>4.819397</td>\n",
       "    </tr>\n",
       "    <tr>\n",
       "      <th>retention_7</th>\n",
       "      <td>0.195973</td>\n",
       "      <td>0.186012</td>\n",
       "      <td>5.355104</td>\n",
       "    </tr>\n",
       "    <tr>\n",
       "      <th>retention_7</th>\n",
       "      <td>0.197106</td>\n",
       "      <td>0.189243</td>\n",
       "      <td>4.154844</td>\n",
       "    </tr>\n",
       "    <tr>\n",
       "      <th>retention_7</th>\n",
       "      <td>0.199526</td>\n",
       "      <td>0.188111</td>\n",
       "      <td>6.068194</td>\n",
       "    </tr>\n",
       "    <tr>\n",
       "      <th>retention_7</th>\n",
       "      <td>0.199901</td>\n",
       "      <td>0.191081</td>\n",
       "      <td>4.616303</td>\n",
       "    </tr>\n",
       "  </tbody>\n",
       "</table>\n",
       "</div>"
      ],
      "text/plain": [
       "version       gate_30   gate_40  difference\n",
       "retention_7  0.197937  0.188837    4.819397\n",
       "retention_7  0.195973  0.186012    5.355104\n",
       "retention_7  0.197106  0.189243    4.154844\n",
       "retention_7  0.199526  0.188111    6.068194\n",
       "retention_7  0.199901  0.191081    4.616303"
      ]
     },
     "execution_count": 22,
     "metadata": {},
     "output_type": "execute_result"
    }
   ],
   "source": [
    "# Create a list that will hold the means of the bootstrapped samples\n",
    "ret_7_boot_means = []\n",
    "\n",
    "# Bootstrap 10,000 samples of same size as the original, calculate the retention means by group,\n",
    "# and append the values to the list\n",
    "for i in range(10000):\n",
    "    bootstrap_mean = test_data.sample(frac=1,replace=True).groupby('version')['retention_7'].mean()\n",
    "    ret_7_boot_means.append(bootstrap_mean)\n",
    "\n",
    "# Create a DataFrame from the list\n",
    "ret_7_boot_means = pd.DataFrame(ret_7_boot_means)\n",
    "# Create a column in the DataFrame to show the difference in retentions between versions\n",
    "# for each sample as a percentage of gate_40 retention\n",
    "ret_7_boot_means['difference'] =\\\n",
    "(ret_7_boot_means['gate_30']-ret_7_boot_means['gate_40'])/ret_7_boot_means['gate_40']*100\n",
    "\n",
    "# Display the top few rows\n",
    "ret_7_boot_means.head()"
   ]
  },
  {
   "cell_type": "markdown",
   "metadata": {},
   "source": [
    "What was the average difference?"
   ]
  },
  {
   "cell_type": "code",
   "execution_count": 23,
   "metadata": {},
   "outputs": [
    {
     "data": {
      "text/plain": [
       "4.287391666223697"
      ]
     },
     "execution_count": 23,
     "metadata": {},
     "output_type": "execute_result"
    }
   ],
   "source": [
    "ret_7_boot_means['difference'].mean()"
   ]
  },
  {
   "cell_type": "markdown",
   "metadata": {},
   "source": [
    "Let's plot a KDE plot of the retention rate means and a histogram of the differences."
   ]
  },
  {
   "cell_type": "code",
   "execution_count": 24,
   "metadata": {},
   "outputs": [
    {
     "data": {
      "image/png": "[encoded data removed]",
      "text/plain": [
       "<Figure size 720x360 with 2 Axes>"
      ]
     },
     "metadata": {
      "needs_background": "light"
     },
     "output_type": "display_data"
    }
   ],
   "source": [
    "fig, (ax1, ax2) = plt.subplots(1, 2)\n",
    "fig.set_size_inches(10, 5)\n",
    "ax1 = sns.kdeplot(data=ret_7_boot_means[['gate_30', 'gate_40']], ax = ax1)\n",
    "ax2 = sns.histplot(data=ret_7_boot_means['difference'], ax = ax2)\n",
    "fig.suptitle('7-Day Retention by Version and Bootstrap Differences')\n",
    "ax1.set_title('7-Day Retention by Version')\n",
    "ax1.set_xlabel('7-Day Retention')\n",
    "ax2.set_title('Distribution of Differences')\n",
    "ax2.set_xlabel('Difference');"
   ]
  },
  {
   "cell_type": "markdown",
   "metadata": {},
   "source": [
    "And let's compute the probability of the difference being above 0, that is the probability of ```retention_7``` being greater for ```gate_30```, by calculating the fraction of the entries in ```ret_7_boot_means['difference']``` that are above 0."
   ]
  },
  {
   "cell_type": "code",
   "execution_count": 25,
   "metadata": {
    "scrolled": false
   },
   "outputs": [
    {
     "name": "stdout",
     "output_type": "stream",
     "text": [
      "Probability of difference being above 0 is 0.9985\n"
     ]
    }
   ],
   "source": [
    "prob = (ret_7_boot_means['difference'] > 0).mean()\n",
    "print(f'Probability of difference being above 0 is {prob}')"
   ]
  },
  {
   "cell_type": "markdown",
   "metadata": {},
   "source": [
    "As all 3 tests show, there's a statistically significant difference between 7-day retention rates between ```gate_30``` and ```gate_40```, so I will reject the null hypothesis for the larger dataset."
   ]
  },
  {
   "cell_type": "markdown",
   "metadata": {},
   "source": [
    "And now let's check ```retention_7``` in  ```test_data_30```."
   ]
  },
  {
   "cell_type": "code",
   "execution_count": 26,
   "metadata": {},
   "outputs": [
    {
     "name": "stdout",
     "output_type": "stream",
     "text": [
      "Z-score:1.601128059662799, p-value:0.10934855851569794\n"
     ]
    }
   ],
   "source": [
    "# Set number of positive outcomes and total numbers of observations as variables,\n",
    "# pass them to proportions_ztest, and print the Z-score and the p-value \n",
    "counts = np.array(test_data_30.groupby('version')['retention_7'].sum())\n",
    "n_obs = np.array(test_data_30.groupby('version')['retention_7'].count())\n",
    "stat, pval = proportions_ztest(counts, n_obs)\n",
    "print(f'Z-score:{stat}, p-value:{pval}')"
   ]
  },
  {
   "cell_type": "markdown",
   "metadata": {},
   "source": [
    "The p-value is 0.11 which is greater than 0.025, so there's not enough evidence to reject the null hypothesis. To be sure, I'll also test bootstrap replicates."
   ]
  },
  {
   "cell_type": "code",
   "execution_count": 27,
   "metadata": {
    "scrolled": false
   },
   "outputs": [
    {
     "data": {
      "text/html": [
       "<div>\n",
       "<style scoped>\n",
       "    .dataframe tbody tr th:only-of-type {\n",
       "        vertical-align: middle;\n",
       "    }\n",
       "\n",
       "    .dataframe tbody tr th {\n",
       "        vertical-align: top;\n",
       "    }\n",
       "\n",
       "    .dataframe thead th {\n",
       "        text-align: right;\n",
       "    }\n",
       "</style>\n",
       "<table border=\"1\" class=\"dataframe\">\n",
       "  <thead>\n",
       "    <tr style=\"text-align: right;\">\n",
       "      <th>version</th>\n",
       "      <th>gate_30</th>\n",
       "      <th>gate_40</th>\n",
       "      <th>difference</th>\n",
       "    </tr>\n",
       "  </thead>\n",
       "  <tbody>\n",
       "    <tr>\n",
       "      <th>retention_7</th>\n",
       "      <td>0.436125</td>\n",
       "      <td>0.431012</td>\n",
       "      <td>1.186464</td>\n",
       "    </tr>\n",
       "    <tr>\n",
       "      <th>retention_7</th>\n",
       "      <td>0.440193</td>\n",
       "      <td>0.431015</td>\n",
       "      <td>2.129506</td>\n",
       "    </tr>\n",
       "    <tr>\n",
       "      <th>retention_7</th>\n",
       "      <td>0.433357</td>\n",
       "      <td>0.435408</td>\n",
       "      <td>-0.471004</td>\n",
       "    </tr>\n",
       "    <tr>\n",
       "      <th>retention_7</th>\n",
       "      <td>0.439959</td>\n",
       "      <td>0.426669</td>\n",
       "      <td>3.114735</td>\n",
       "    </tr>\n",
       "    <tr>\n",
       "      <th>retention_7</th>\n",
       "      <td>0.435987</td>\n",
       "      <td>0.430977</td>\n",
       "      <td>1.162604</td>\n",
       "    </tr>\n",
       "  </tbody>\n",
       "</table>\n",
       "</div>"
      ],
      "text/plain": [
       "version       gate_30   gate_40  difference\n",
       "retention_7  0.436125  0.431012    1.186464\n",
       "retention_7  0.440193  0.431015    2.129506\n",
       "retention_7  0.433357  0.435408   -0.471004\n",
       "retention_7  0.439959  0.426669    3.114735\n",
       "retention_7  0.435987  0.430977    1.162604"
      ]
     },
     "execution_count": 27,
     "metadata": {},
     "output_type": "execute_result"
    }
   ],
   "source": [
    "# Create a list that will hold the means of the bootstrapped samples\n",
    "ret_7_boot_means_30 = []\n",
    "\n",
    "# Bootstrap 10,000 samples of same size as the original, calculate the retention means by group,\n",
    "# and append the values to the list\n",
    "for i in range(10000):\n",
    "    bootstrap_mean = test_data_30.sample(frac=1,replace=True).groupby('version')['retention_7'].mean()\n",
    "    ret_7_boot_means_30.append(bootstrap_mean)\n",
    "\n",
    "# Create a DataFrame from the list\n",
    "ret_7_boot_means_30 = pd.DataFrame(ret_7_boot_means_30)\n",
    "# Create a column in the DataFrame to show the difference in retentions between versions\n",
    "# for each sample as a percentage of gate_40 retention\n",
    "ret_7_boot_means_30['difference'] =\\\n",
    "(ret_7_boot_means_30['gate_30']-ret_7_boot_means_30['gate_40'])/ret_7_boot_means_30['gate_40']*100\n",
    "\n",
    "# Display the top few rows\n",
    "ret_7_boot_means_30.head()"
   ]
  },
  {
   "cell_type": "markdown",
   "metadata": {},
   "source": [
    "The average difference is"
   ]
  },
  {
   "cell_type": "code",
   "execution_count": 28,
   "metadata": {},
   "outputs": [
    {
     "data": {
      "text/plain": [
       "2.0278663508765358"
      ]
     },
     "execution_count": 28,
     "metadata": {},
     "output_type": "execute_result"
    }
   ],
   "source": [
    "ret_7_boot_means_30['difference'].mean()"
   ]
  },
  {
   "cell_type": "markdown",
   "metadata": {},
   "source": [
    "Let's plot the retention rate bootstraps and differences as before."
   ]
  },
  {
   "cell_type": "code",
   "execution_count": 29,
   "metadata": {
    "scrolled": false
   },
   "outputs": [
    {
     "data": {
      "image/png": "[encoded data removed]",
      "text/plain": [
       "<Figure size 720x360 with 2 Axes>"
      ]
     },
     "metadata": {
      "needs_background": "light"
     },
     "output_type": "display_data"
    }
   ],
   "source": [
    "fig, (ax1, ax2) = plt.subplots(1, 2)\n",
    "fig.set_size_inches(10, 5)\n",
    "ax1 = sns.kdeplot(data=ret_7_boot_means_30[['gate_30', 'gate_40']], ax = ax1)\n",
    "ax2 = sns.histplot(data=ret_7_boot_means_30['difference'], ax = ax2)\n",
    "fig.suptitle('7-Day Retention by Version and Bootstrap Differences')\n",
    "ax1.set_title('7-Day Retention by Version')\n",
    "ax1.set_xlabel('7-Day Retention')\n",
    "ax2.set_title('Distribution of Differences')\n",
    "ax2.set_xlabel('Difference');"
   ]
  },
  {
   "cell_type": "markdown",
   "metadata": {},
   "source": [
    "And finally, I'll calculate the p-value."
   ]
  },
  {
   "cell_type": "code",
   "execution_count": 30,
   "metadata": {
    "scrolled": true
   },
   "outputs": [
    {
     "name": "stdout",
     "output_type": "stream",
     "text": [
      "Probability of difference being above 0 is 0.9406\n"
     ]
    }
   ],
   "source": [
    "prob = (ret_7_boot_means_30['difference'] > 0).mean()\n",
    "print(f'Probability of difference being above 0 is {prob}')"
   ]
  },
  {
   "cell_type": "markdown",
   "metadata": {},
   "source": [
    "The probability of obtaining a higher retention rate in ```group_30``` is quite high, 0.9445, but it is less than the significance level of 0.975, so we cannot reject the null hypothesis of same mean retention rates."
   ]
  },
  {
   "cell_type": "markdown",
   "metadata": {},
   "source": [
    "Lastly, I want to compare the number of rounds played. Hypotheses are still the same.  \n",
    "\n",
    "$$\n",
    "H_0:\\mu_{gate\\_30}=\\mu_{gate\\_40}\n",
    "$$\n",
    "$$\n",
    "H_a:\\mu_{gate\\_30}\\ne\\mu_{gate\\_40}\n",
    "$$"
   ]
  },
  {
   "cell_type": "code",
   "execution_count": 31,
   "metadata": {
    "scrolled": true
   },
   "outputs": [
    {
     "data": {
      "text/plain": [
       "version\n",
       "gate_30    53.667766\n",
       "gate_40    53.728357\n",
       "Name: sum_gamerounds, dtype: float64"
      ]
     },
     "execution_count": 31,
     "metadata": {},
     "output_type": "execute_result"
    }
   ],
   "source": [
    "test_data.groupby('version')['sum_gamerounds'].mean()"
   ]
  },
  {
   "cell_type": "markdown",
   "metadata": {},
   "source": [
    "The numbers are nearly identical, but I'll do a quick check for significance anyway."
   ]
  },
  {
   "cell_type": "code",
   "execution_count": 32,
   "metadata": {},
   "outputs": [
    {
     "name": "stdout",
     "output_type": "stream",
     "text": [
      "Z-score:-0.0851720765870841, p-value:0.9321245895512966\n"
     ]
    }
   ],
   "source": [
    "# I'll use ztest from statsmodels.stats.weightstats\n",
    "from statsmodels.stats.weightstats import ztest\n",
    "\n",
    "# Convert sum_gamerounds for each version into an array and calculate Z-score and p-value\n",
    "gate_30_rounds = test_data.query('version == \"gate_30\"')['sum_gamerounds'].to_numpy()\n",
    "gate_40_rounds = test_data.query('version == \"gate_40\"')['sum_gamerounds'].to_numpy()\n",
    "z, p = ztest(gate_30_rounds, gate_40_rounds)\n",
    "print(f'Z-score:{z}, p-value:{p}')"
   ]
  },
  {
   "cell_type": "markdown",
   "metadata": {},
   "source": [
    "As expected, the p-value is 0.93, so we cannot reject the null hypothesis."
   ]
  },
  {
   "cell_type": "markdown",
   "metadata": {},
   "source": [
    "And now I'll compare the last remaining numbers, average number of rounds played in the smaller dataset."
   ]
  },
  {
   "cell_type": "code",
   "execution_count": 33,
   "metadata": {
    "scrolled": true
   },
   "outputs": [
    {
     "data": {
      "text/plain": [
       "version\n",
       "gate_30    122.092645\n",
       "gate_40    124.466502\n",
       "Name: sum_gamerounds, dtype: float64"
      ]
     },
     "execution_count": 33,
     "metadata": {},
     "output_type": "execute_result"
    }
   ],
   "source": [
    "test_data_30.groupby('version')['sum_gamerounds'].mean()"
   ]
  },
  {
   "cell_type": "markdown",
   "metadata": {},
   "source": [
    "There's a difference of about 2.5 rounds played. Let's check if it's significant."
   ]
  },
  {
   "cell_type": "code",
   "execution_count": 34,
   "metadata": {},
   "outputs": [
    {
     "name": "stdout",
     "output_type": "stream",
     "text": [
      "Z-score:-1.5205865059389807, p-value:0.1283636352206684\n"
     ]
    }
   ],
   "source": [
    "gate_30_rounds = test_data_30.query('version == \"gate_30\"')['sum_gamerounds'].to_numpy()\n",
    "gate_40_rounds = test_data_30.query('version == \"gate_40\"')['sum_gamerounds'].to_numpy()\n",
    "z, p = ztest(gate_30_rounds, gate_40_rounds)\n",
    "print(f'Z-score:{z}, p-value:{p}')"
   ]
  },
  {
   "cell_type": "markdown",
   "metadata": {},
   "source": [
    "The p-value of 0.128 is greater than 0.025, so we cannot reject the null hypothesis."
   ]
  },
  {
   "cell_type": "markdown",
   "metadata": {},
   "source": [
    "***"
   ]
  },
  {
   "cell_type": "markdown",
   "metadata": {},
   "source": [
    "### Summary\n",
    "\n",
    "In this project, I analyzed the data from an A/B test for the game Cookie Cats and compared differences in retention and total rounds played among two groups of players. Both groups encountered a gate that would make the players wait a certain amount of time or let them make an in-app purchase to continue playing. The first group encountered the gate at level 30, and the second group encountered it at level 40.  \n",
    "\n",
    "For comparison purposes, I created a subset of the data with players who played at least 30 rounds. Analysis showed that there were no statistically significant differences between groups in 1-day retention and rounds played for both datasets. It also showed that while there was no statistically significant difference in 7-day retention between groups for players that played at least 30 rounds, there was a statistically significant difference in 7-day retention between groups in the larger dataset, with retention being more than 4% higher for ```gate_30``` group expressed as a proportion of ```gate_40``` retention rate.  \n",
    "\n",
    "That poses a question: if there is no difference in retention among the players who played over 30 rounds and therefore were more likely to encounter the gate, does the difference in retention come from players who played less than 30 rounds? And if so, can that increase in retention be attributed to the feature being tested which occurs later in the game?"
   ]
  },
  {
   "cell_type": "code",
   "execution_count": 35,
   "metadata": {},
   "outputs": [
    {
     "data": {
      "text/plain": [
       "version\n",
       "gate_30    0.045122\n",
       "gate_40    0.041836\n",
       "Name: retention_7, dtype: float64"
      ]
     },
     "execution_count": 35,
     "metadata": {},
     "output_type": "execute_result"
    }
   ],
   "source": [
    "# Subset the data to players who played less than 30 rounds\n",
    "test_data_less_than_30 = test_data.query('sum_gamerounds < 30')\n",
    "test_data_less_than_30.groupby('version')['retention_7'].mean()"
   ]
  },
  {
   "cell_type": "code",
   "execution_count": 36,
   "metadata": {},
   "outputs": [
    {
     "name": "stdout",
     "output_type": "stream",
     "text": [
      "Z-score:1.8537421033414183, p-value:0.06377606505384434\n"
     ]
    }
   ],
   "source": [
    "# Test for equality of means\n",
    "counts = np.array(test_data_less_than_30.groupby('version')['retention_7'].sum())\n",
    "n_obs = np.array(test_data_less_than_30.groupby('version')['retention_7'].count())\n",
    "stat, pval = proportions_ztest(counts, n_obs)\n",
    "print(f'Z-score:{stat}, p-value:{pval}')"
   ]
  },
  {
   "cell_type": "markdown",
   "metadata": {},
   "source": [
    "As those numbers show, there's a noticeable difference in retention rates between groups for players who played less than 30 rounds, but it is also not statistically significant, with the p-value being 0.064."
   ]
  },
  {
   "cell_type": "markdown",
   "metadata": {},
   "source": [
    "Taking all that into consideration, there seems to be more of a positive effect in having the gate at level 30 compared to level 40, but the exact difference in effects is not clear, and there is a possibility of factors other than the location of the gate affecting the retention. To help clarify the effects, we would ideally need to keep the two versions of the game exactly the same, both visually and in terms of gameplay features, with the only difference being a prompt giving each player an option to wait or to make an in-app purchase to continue after level 30 or 40 depending on the player's group. Also, since the two game versions would be identical except for the prompt, it would be reasonable to expect that players who stop playing the game before level 30 in one version, would do so in the other as well. Therefore, we would need to track only players who played past level 30.  \n",
    "\n",
    "Furthermore, we could record and analyze the following metrics:\n",
    "- Total time played\n",
    "- Sessions played (a single period of time from launching the app to exiting it)\n",
    "- Average time per session\n",
    "- Number of days played\n",
    "\n",
    "It would be possible to perform paired tests on that data to see if there are any changes in playing behavior after encountering the feature.  \n",
    "\n",
    "We could also compare dropout at the feature level between versions to see if there are differences in numbers of players who don't come back after running into the feature.\n",
    "\n",
    "Last but not least, if there is an apparent benefit to having the feature at level 30, it would make sense to try it at earlier levels and compare the results. "
   ]
  }
 ],
 "metadata": {
  "kernelspec": {
   "display_name": "Python 3",
   "language": "python",
   "name": "python3"
  },
  "language_info": {
   "codemirror_mode": {
    "name": "ipython",
    "version": 3
   },
   "file_extension": ".py",
   "mimetype": "text/x-python",
   "name": "python",
   "nbconvert_exporter": "python",
   "pygments_lexer": "ipython3",
   "version": "3.8.5"
  }
 },
 "nbformat": 4,
 "nbformat_minor": 4
}
