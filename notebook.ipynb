{
 "cells": [
  {
   "cell_type": "markdown",
   "metadata": {},
   "source": [
    "In this project, I will analyze the results of an A/B test for the game Cookie Cats developed by Tactile Entertainment. The objective of the game is to connect three items in a line and clear the board to beat the level. As players progress through the levels, they will occasionally encounter gates where they will either have to wait a certain amount of time or make an in-app purchase to progress further. The goal of this project is to compare the difference of effects of setting the first gate at level 30 or level 40 on 1 and 7 day retention and number of rounds played."
   ]
  },
  {
   "cell_type": "code",
   "execution_count": 2,
   "metadata": {
    "scrolled": false
   },
   "outputs": [
    {
     "data": {
      "text/html": [
       "<div>\n",
       "<style scoped>\n",
       "    .dataframe tbody tr th:only-of-type {\n",
       "        vertical-align: middle;\n",
       "    }\n",
       "\n",
       "    .dataframe tbody tr th {\n",
       "        vertical-align: top;\n",
       "    }\n",
       "\n",
       "    .dataframe thead th {\n",
       "        text-align: right;\n",
       "    }\n",
       "</style>\n",
       "<table border=\"1\" class=\"dataframe\">\n",
       "  <thead>\n",
       "    <tr style=\"text-align: right;\">\n",
       "      <th></th>\n",
       "      <th>userid</th>\n",
       "      <th>version</th>\n",
       "      <th>sum_gamerounds</th>\n",
       "      <th>retention_1</th>\n",
       "      <th>retention_7</th>\n",
       "    </tr>\n",
       "  </thead>\n",
       "  <tbody>\n",
       "    <tr>\n",
       "      <th>0</th>\n",
       "      <td>116</td>\n",
       "      <td>gate_30</td>\n",
       "      <td>3</td>\n",
       "      <td>False</td>\n",
       "      <td>False</td>\n",
       "    </tr>\n",
       "    <tr>\n",
       "      <th>1</th>\n",
       "      <td>337</td>\n",
       "      <td>gate_30</td>\n",
       "      <td>38</td>\n",
       "      <td>True</td>\n",
       "      <td>False</td>\n",
       "    </tr>\n",
       "    <tr>\n",
       "      <th>2</th>\n",
       "      <td>377</td>\n",
       "      <td>gate_40</td>\n",
       "      <td>165</td>\n",
       "      <td>True</td>\n",
       "      <td>False</td>\n",
       "    </tr>\n",
       "    <tr>\n",
       "      <th>3</th>\n",
       "      <td>483</td>\n",
       "      <td>gate_40</td>\n",
       "      <td>1</td>\n",
       "      <td>False</td>\n",
       "      <td>False</td>\n",
       "    </tr>\n",
       "    <tr>\n",
       "      <th>4</th>\n",
       "      <td>488</td>\n",
       "      <td>gate_40</td>\n",
       "      <td>179</td>\n",
       "      <td>True</td>\n",
       "      <td>True</td>\n",
       "    </tr>\n",
       "  </tbody>\n",
       "</table>\n",
       "</div>"
      ],
      "text/plain": [
       "   userid  version  sum_gamerounds  retention_1  retention_7\n",
       "0     116  gate_30               3        False        False\n",
       "1     337  gate_30              38         True        False\n",
       "2     377  gate_40             165         True        False\n",
       "3     483  gate_40               1        False        False\n",
       "4     488  gate_40             179         True         True"
      ]
     },
     "execution_count": 2,
     "metadata": {},
     "output_type": "execute_result"
    }
   ],
   "source": [
    "# Import Pandas, Matplotlib and Seaborn\n",
    "import pandas as pd\n",
    "import matplotlib.pyplot as plt\n",
    "import seaborn as sns\n",
    "\n",
    "# Load the data and show the first few lines\n",
    "test_data = pd.read_csv('datasets/cookie_cats.csv')\n",
    "test_data.head()"
   ]
  },
  {
   "cell_type": "markdown",
   "metadata": {},
   "source": [
    "The data tracks players for 14 days after the install with the columns indicating the player ID, which test group they were assigned (gate 30 or 40), total number of rounds played (NOT levels passed, there's a big difference), and whether the player returned 1 day or 7 days after installing the game.\n",
    "\n",
    "For the first step, let's use Panda's ```.info()``` method to check the data for missing values."
   ]
  },
  {
   "cell_type": "code",
   "execution_count": 2,
   "metadata": {
    "scrolled": true
   },
   "outputs": [
    {
     "name": "stdout",
     "output_type": "stream",
     "text": [
      "<class 'pandas.core.frame.DataFrame'>\n",
      "RangeIndex: 90189 entries, 0 to 90188\n",
      "Data columns (total 5 columns):\n",
      " #   Column          Non-Null Count  Dtype \n",
      "---  ------          --------------  ----- \n",
      " 0   userid          90189 non-null  int64 \n",
      " 1   version         90189 non-null  object\n",
      " 2   sum_gamerounds  90189 non-null  int64 \n",
      " 3   retention_1     90189 non-null  bool  \n",
      " 4   retention_7     90189 non-null  bool  \n",
      "dtypes: bool(2), int64(2), object(1)\n",
      "memory usage: 2.2+ MB\n"
     ]
    }
   ],
   "source": [
    "test_data.info()"
   ]
  },
  {
   "cell_type": "markdown",
   "metadata": {},
   "source": [
    "There are no missing values, so we can move on. Let's check out how many players played more than 100 rounds during the 14 day period."
   ]
  },
  {
   "cell_type": "code",
   "execution_count": 3,
   "metadata": {
    "scrolled": true
   },
   "outputs": [
    {
     "data": {
      "text/html": [
       "<div>\n",
       "<style scoped>\n",
       "    .dataframe tbody tr th:only-of-type {\n",
       "        vertical-align: middle;\n",
       "    }\n",
       "\n",
       "    .dataframe tbody tr th {\n",
       "        vertical-align: top;\n",
       "    }\n",
       "\n",
       "    .dataframe thead th {\n",
       "        text-align: right;\n",
       "    }\n",
       "</style>\n",
       "<table border=\"1\" class=\"dataframe\">\n",
       "  <thead>\n",
       "    <tr style=\"text-align: right;\">\n",
       "      <th></th>\n",
       "      <th>userid</th>\n",
       "      <th>sum_gamerounds</th>\n",
       "      <th>retention_1</th>\n",
       "      <th>retention_7</th>\n",
       "    </tr>\n",
       "    <tr>\n",
       "      <th>version</th>\n",
       "      <th></th>\n",
       "      <th></th>\n",
       "      <th></th>\n",
       "      <th></th>\n",
       "    </tr>\n",
       "  </thead>\n",
       "  <tbody>\n",
       "    <tr>\n",
       "      <th>gate_30</th>\n",
       "      <td>6095</td>\n",
       "      <td>6095</td>\n",
       "      <td>6095</td>\n",
       "      <td>6095</td>\n",
       "    </tr>\n",
       "    <tr>\n",
       "      <th>gate_40</th>\n",
       "      <td>6290</td>\n",
       "      <td>6290</td>\n",
       "      <td>6290</td>\n",
       "      <td>6290</td>\n",
       "    </tr>\n",
       "  </tbody>\n",
       "</table>\n",
       "</div>"
      ],
      "text/plain": [
       "         userid  sum_gamerounds  retention_1  retention_7\n",
       "version                                                  \n",
       "gate_30    6095            6095         6095         6095\n",
       "gate_40    6290            6290         6290         6290"
      ]
     },
     "execution_count": 3,
     "metadata": {},
     "output_type": "execute_result"
    }
   ],
   "source": [
    "# Get rows with values more than 100 for sum_gamerounds, group by version, and count the rows\n",
    "test_data.query('sum_gamerounds > 100').groupby('version').count()"
   ]
  },
  {
   "cell_type": "markdown",
   "metadata": {},
   "source": [
    "Over 12,000 players completed more than 100 rounds of the game. Let's check out the data for the players with 10 highest values for ```sum_gamerounds```."
   ]
  },
  {
   "cell_type": "code",
   "execution_count": 4,
   "metadata": {},
   "outputs": [
    {
     "data": {
      "text/html": [
       "<div>\n",
       "<style scoped>\n",
       "    .dataframe tbody tr th:only-of-type {\n",
       "        vertical-align: middle;\n",
       "    }\n",
       "\n",
       "    .dataframe tbody tr th {\n",
       "        vertical-align: top;\n",
       "    }\n",
       "\n",
       "    .dataframe thead th {\n",
       "        text-align: right;\n",
       "    }\n",
       "</style>\n",
       "<table border=\"1\" class=\"dataframe\">\n",
       "  <thead>\n",
       "    <tr style=\"text-align: right;\">\n",
       "      <th></th>\n",
       "      <th>userid</th>\n",
       "      <th>version</th>\n",
       "      <th>sum_gamerounds</th>\n",
       "      <th>retention_1</th>\n",
       "      <th>retention_7</th>\n",
       "    </tr>\n",
       "  </thead>\n",
       "  <tbody>\n",
       "    <tr>\n",
       "      <th>57702</th>\n",
       "      <td>6390605</td>\n",
       "      <td>gate_30</td>\n",
       "      <td>49854</td>\n",
       "      <td>False</td>\n",
       "      <td>True</td>\n",
       "    </tr>\n",
       "    <tr>\n",
       "      <th>7912</th>\n",
       "      <td>871500</td>\n",
       "      <td>gate_30</td>\n",
       "      <td>2961</td>\n",
       "      <td>True</td>\n",
       "      <td>True</td>\n",
       "    </tr>\n",
       "    <tr>\n",
       "      <th>29417</th>\n",
       "      <td>3271615</td>\n",
       "      <td>gate_40</td>\n",
       "      <td>2640</td>\n",
       "      <td>True</td>\n",
       "      <td>False</td>\n",
       "    </tr>\n",
       "    <tr>\n",
       "      <th>43671</th>\n",
       "      <td>4832608</td>\n",
       "      <td>gate_30</td>\n",
       "      <td>2438</td>\n",
       "      <td>True</td>\n",
       "      <td>True</td>\n",
       "    </tr>\n",
       "    <tr>\n",
       "      <th>48188</th>\n",
       "      <td>5346171</td>\n",
       "      <td>gate_40</td>\n",
       "      <td>2294</td>\n",
       "      <td>True</td>\n",
       "      <td>True</td>\n",
       "    </tr>\n",
       "    <tr>\n",
       "      <th>46344</th>\n",
       "      <td>5133952</td>\n",
       "      <td>gate_30</td>\n",
       "      <td>2251</td>\n",
       "      <td>True</td>\n",
       "      <td>True</td>\n",
       "    </tr>\n",
       "    <tr>\n",
       "      <th>87007</th>\n",
       "      <td>9640085</td>\n",
       "      <td>gate_30</td>\n",
       "      <td>2156</td>\n",
       "      <td>True</td>\n",
       "      <td>True</td>\n",
       "    </tr>\n",
       "    <tr>\n",
       "      <th>36933</th>\n",
       "      <td>4090246</td>\n",
       "      <td>gate_40</td>\n",
       "      <td>2124</td>\n",
       "      <td>True</td>\n",
       "      <td>True</td>\n",
       "    </tr>\n",
       "    <tr>\n",
       "      <th>88328</th>\n",
       "      <td>9791599</td>\n",
       "      <td>gate_40</td>\n",
       "      <td>2063</td>\n",
       "      <td>True</td>\n",
       "      <td>True</td>\n",
       "    </tr>\n",
       "    <tr>\n",
       "      <th>6536</th>\n",
       "      <td>725080</td>\n",
       "      <td>gate_40</td>\n",
       "      <td>2015</td>\n",
       "      <td>True</td>\n",
       "      <td>True</td>\n",
       "    </tr>\n",
       "  </tbody>\n",
       "</table>\n",
       "</div>"
      ],
      "text/plain": [
       "        userid  version  sum_gamerounds  retention_1  retention_7\n",
       "57702  6390605  gate_30           49854        False         True\n",
       "7912    871500  gate_30            2961         True         True\n",
       "29417  3271615  gate_40            2640         True        False\n",
       "43671  4832608  gate_30            2438         True         True\n",
       "48188  5346171  gate_40            2294         True         True\n",
       "46344  5133952  gate_30            2251         True         True\n",
       "87007  9640085  gate_30            2156         True         True\n",
       "36933  4090246  gate_40            2124         True         True\n",
       "88328  9791599  gate_40            2063         True         True\n",
       "6536    725080  gate_40            2015         True         True"
      ]
     },
     "execution_count": 4,
     "metadata": {},
     "output_type": "execute_result"
    }
   ],
   "source": [
    "# Sort test_data by sum_gamerounds in descending order and return the top 10\n",
    "test_data.sort_values(by='sum_gamerounds', ascending=False).head(10)"
   ]
  },
  {
   "cell_type": "markdown",
   "metadata": {},
   "source": [
    "A few observations:\n",
    "- The highest number or rounds played is 49,845! That's 3561 per day if we assume those rounds were played over a 14-day span! (Value for ```retention_1``` is ```False``` in that row, so it must have taken less than 14 days.)\n",
    "- There's no other player with over 3,000 total rounds played.\n",
    "- The player with 3rd most number of rounds did not return after 7 days, which means that they played more than 2640/7 = 377 rounds per day.  \n",
    "\n",
    "The highest number is an outlier (perhaps a glitch or someone trained a bot to play for them), so it would make sense to drop it from the data. The third number is also most likely a bot or a glitch. That brings a question: what numbers for that variable are reasonable?  \n",
    "Let's check out how many players have played over 500 rounds total, or more than 35 rounds per day."
   ]
  },
  {
   "cell_type": "code",
   "execution_count": 5,
   "metadata": {
    "scrolled": true
   },
   "outputs": [
    {
     "data": {
      "text/html": [
       "<div>\n",
       "<style scoped>\n",
       "    .dataframe tbody tr th:only-of-type {\n",
       "        vertical-align: middle;\n",
       "    }\n",
       "\n",
       "    .dataframe tbody tr th {\n",
       "        vertical-align: top;\n",
       "    }\n",
       "\n",
       "    .dataframe thead th {\n",
       "        text-align: right;\n",
       "    }\n",
       "</style>\n",
       "<table border=\"1\" class=\"dataframe\">\n",
       "  <thead>\n",
       "    <tr style=\"text-align: right;\">\n",
       "      <th></th>\n",
       "      <th>userid</th>\n",
       "      <th>sum_gamerounds</th>\n",
       "      <th>retention_1</th>\n",
       "      <th>retention_7</th>\n",
       "    </tr>\n",
       "    <tr>\n",
       "      <th>version</th>\n",
       "      <th></th>\n",
       "      <th></th>\n",
       "      <th></th>\n",
       "      <th></th>\n",
       "    </tr>\n",
       "  </thead>\n",
       "  <tbody>\n",
       "    <tr>\n",
       "      <th>gate_30</th>\n",
       "      <td>427</td>\n",
       "      <td>427</td>\n",
       "      <td>427</td>\n",
       "      <td>427</td>\n",
       "    </tr>\n",
       "    <tr>\n",
       "      <th>gate_40</th>\n",
       "      <td>429</td>\n",
       "      <td>429</td>\n",
       "      <td>429</td>\n",
       "      <td>429</td>\n",
       "    </tr>\n",
       "  </tbody>\n",
       "</table>\n",
       "</div>"
      ],
      "text/plain": [
       "         userid  sum_gamerounds  retention_1  retention_7\n",
       "version                                                  \n",
       "gate_30     427             427          427          427\n",
       "gate_40     429             429          429          429"
      ]
     },
     "execution_count": 5,
     "metadata": {},
     "output_type": "execute_result"
    }
   ],
   "source": [
    "# Get rows with values more than 500 for sum_gamerounds, group by version, and count the rows \n",
    "test_data.query('sum_gamerounds > 500').groupby('version').count()"
   ]
  },
  {
   "cell_type": "markdown",
   "metadata": {},
   "source": [
    "There are 856 players with more than 500 rounds played."
   ]
  },
  {
   "cell_type": "markdown",
   "metadata": {},
   "source": [
    "In the next step, let's check out the distribution of players who played 200 rounds or less."
   ]
  },
  {
   "cell_type": "code",
   "execution_count": 6,
   "metadata": {
    "scrolled": false
   },
   "outputs": [
    {
     "data": {
      "image/png": "[encoded data removed]",
      "text/plain": [
       "<Figure size 720x432 with 1 Axes>"
      ]
     },
     "metadata": {
      "needs_background": "light"
     },
     "output_type": "display_data"
    }
   ],
   "source": [
    "# Set figure size for better visibility\n",
    "plt.figure(figsize=(10,6))\n",
    "\n",
    "# Plot the distribution histogram with bin width of 5 and set labels\n",
    "sns.histplot(data=test_data, x = 'sum_gamerounds', binwidth = 5, binrange = (0, 200))\n",
    "plt.title('Distribution of Players with up to 200 Rounds Played')\n",
    "plt.xlabel('Rounds played')\n",
    "plt.ylabel('Number or players');"
   ]
  },
  {
   "cell_type": "markdown",
   "metadata": {},
   "source": [
    "A good chunk of players stopped playing before completing 30 rounds. Let's get the exact number."
   ]
  },
  {
   "cell_type": "code",
   "execution_count": 7,
   "metadata": {
    "scrolled": true
   },
   "outputs": [
    {
     "data": {
      "text/plain": [
       "56920"
      ]
     },
     "execution_count": 7,
     "metadata": {},
     "output_type": "execute_result"
    }
   ],
   "source": [
    "# Get the the players with less than 30 rounds played and count the unique IDs\n",
    "test_data.query('sum_gamerounds < 30')['userid'].count()"
   ]
  },
  {
   "cell_type": "markdown",
   "metadata": {},
   "source": [
    "56920 out of 90189 players, or 63%, played less than 30 rounds."
   ]
  },
  {
   "cell_type": "markdown",
   "metadata": {},
   "source": [
    "30 rounds played is an important benchmark because our A/B test is around the gates that are placed at levels 30 and 40. If a player was assigned to the group 'gate_30' and played less than 30 rounds, it would not be possible for them to reach the gate, and therefore test the feature, since it would take them at least 30 rounds to beat 30 levels. Including those players in calculations would be similar to measuring the effectiveness of a drug by using participants who were assigned to the experimental group without actually being administered the drug.  \n",
    "\n",
    "Also, since the features of the gates for both groups are the same (same wait time or in-app purchase price), we are measuring the effect of the 10 level difference, and not the gates themselves.  \n",
    "\n",
    "Another point to consider is that the high dropout rate after very few rounds played is most likely due to the players not having enough interest in the game itself, and the location of the gate makes no difference. (Maybe no need for this paragraph.)\n",
    "\n",
    "Using that as my reasoning, I will drop all the players that played less than 30 rounds from the data. \n",
    "\n",
    "(It is very possible that some of the players with more than 30 rounds played never made it to the first gate since it's possible that they lost a few rounds and didn't advance far enough. Therefore, a more reliable metric would be the highest level achieved, but I'll work with the data that's available.)"
   ]
  },
  {
   "cell_type": "code",
   "execution_count": 8,
   "metadata": {},
   "outputs": [],
   "source": [
    "# Remove all rows with less than 30 rounds played from test_data in-place\n",
    "test_data.drop(test_data.query('sum_gamerounds < 30').index, inplace = True)"
   ]
  },
  {
   "cell_type": "markdown",
   "metadata": {},
   "source": [
    "Let's check ```test_data``` to make sure the drop went smoothly."
   ]
  },
  {
   "cell_type": "code",
   "execution_count": 9,
   "metadata": {
    "scrolled": false
   },
   "outputs": [
    {
     "data": {
      "text/html": [
       "<div>\n",
       "<style scoped>\n",
       "    .dataframe tbody tr th:only-of-type {\n",
       "        vertical-align: middle;\n",
       "    }\n",
       "\n",
       "    .dataframe tbody tr th {\n",
       "        vertical-align: top;\n",
       "    }\n",
       "\n",
       "    .dataframe thead th {\n",
       "        text-align: right;\n",
       "    }\n",
       "</style>\n",
       "<table border=\"1\" class=\"dataframe\">\n",
       "  <thead>\n",
       "    <tr style=\"text-align: right;\">\n",
       "      <th></th>\n",
       "      <th>userid</th>\n",
       "      <th>version</th>\n",
       "      <th>sum_gamerounds</th>\n",
       "      <th>retention_1</th>\n",
       "      <th>retention_7</th>\n",
       "    </tr>\n",
       "  </thead>\n",
       "  <tbody>\n",
       "    <tr>\n",
       "      <th>12</th>\n",
       "      <td>2132</td>\n",
       "      <td>gate_40</td>\n",
       "      <td>30</td>\n",
       "      <td>True</td>\n",
       "      <td>False</td>\n",
       "    </tr>\n",
       "    <tr>\n",
       "      <th>338</th>\n",
       "      <td>33954</td>\n",
       "      <td>gate_40</td>\n",
       "      <td>30</td>\n",
       "      <td>True</td>\n",
       "      <td>False</td>\n",
       "    </tr>\n",
       "    <tr>\n",
       "      <th>388</th>\n",
       "      <td>38249</td>\n",
       "      <td>gate_40</td>\n",
       "      <td>30</td>\n",
       "      <td>True</td>\n",
       "      <td>False</td>\n",
       "    </tr>\n",
       "    <tr>\n",
       "      <th>705</th>\n",
       "      <td>76662</td>\n",
       "      <td>gate_40</td>\n",
       "      <td>30</td>\n",
       "      <td>True</td>\n",
       "      <td>False</td>\n",
       "    </tr>\n",
       "    <tr>\n",
       "      <th>911</th>\n",
       "      <td>101864</td>\n",
       "      <td>gate_40</td>\n",
       "      <td>30</td>\n",
       "      <td>False</td>\n",
       "      <td>False</td>\n",
       "    </tr>\n",
       "    <tr>\n",
       "      <th>...</th>\n",
       "      <td>...</td>\n",
       "      <td>...</td>\n",
       "      <td>...</td>\n",
       "      <td>...</td>\n",
       "      <td>...</td>\n",
       "    </tr>\n",
       "    <tr>\n",
       "      <th>89718</th>\n",
       "      <td>9949586</td>\n",
       "      <td>gate_30</td>\n",
       "      <td>30</td>\n",
       "      <td>True</td>\n",
       "      <td>True</td>\n",
       "    </tr>\n",
       "    <tr>\n",
       "      <th>89730</th>\n",
       "      <td>9950957</td>\n",
       "      <td>gate_30</td>\n",
       "      <td>30</td>\n",
       "      <td>False</td>\n",
       "      <td>False</td>\n",
       "    </tr>\n",
       "    <tr>\n",
       "      <th>89786</th>\n",
       "      <td>9957250</td>\n",
       "      <td>gate_40</td>\n",
       "      <td>30</td>\n",
       "      <td>False</td>\n",
       "      <td>False</td>\n",
       "    </tr>\n",
       "    <tr>\n",
       "      <th>90175</th>\n",
       "      <td>9998125</td>\n",
       "      <td>gate_30</td>\n",
       "      <td>30</td>\n",
       "      <td>False</td>\n",
       "      <td>False</td>\n",
       "    </tr>\n",
       "    <tr>\n",
       "      <th>90185</th>\n",
       "      <td>9999479</td>\n",
       "      <td>gate_40</td>\n",
       "      <td>30</td>\n",
       "      <td>False</td>\n",
       "      <td>False</td>\n",
       "    </tr>\n",
       "  </tbody>\n",
       "</table>\n",
       "<p>642 rows × 5 columns</p>\n",
       "</div>"
      ],
      "text/plain": [
       "        userid  version  sum_gamerounds  retention_1  retention_7\n",
       "12        2132  gate_40              30         True        False\n",
       "338      33954  gate_40              30         True        False\n",
       "388      38249  gate_40              30         True        False\n",
       "705      76662  gate_40              30         True        False\n",
       "911     101864  gate_40              30        False        False\n",
       "...        ...      ...             ...          ...          ...\n",
       "89718  9949586  gate_30              30         True         True\n",
       "89730  9950957  gate_30              30        False        False\n",
       "89786  9957250  gate_40              30        False        False\n",
       "90175  9998125  gate_30              30        False        False\n",
       "90185  9999479  gate_40              30        False        False\n",
       "\n",
       "[642 rows x 5 columns]"
      ]
     },
     "execution_count": 9,
     "metadata": {},
     "output_type": "execute_result"
    }
   ],
   "source": [
    "test_data.query('sum_gamerounds < 31')"
   ]
  },
  {
   "cell_type": "markdown",
   "metadata": {},
   "source": [
    "That looks good. Now, let's get back to the players that played a lot of rounds.  \n",
    "\n",
    "I will drop rows with more than 500 rounds played because in my humble opinion, players with that many rounds played liked the game enough that I do not think whether the gate was at level 30 or at level 40 would matter to them. The number 500 is subjective and arguements could be made for a higher or lower number."
   ]
  },
  {
   "cell_type": "markdown",
   "metadata": {},
   "source": [
    "***\n",
    "***\n",
    "# ***\n",
    "***\n",
    "***\n",
    "# ***\n",
    "***\n",
    "***"
   ]
  },
  {
   "cell_type": "markdown",
   "metadata": {},
   "source": [
    "(Instead of dropping in-place, create separate dataframes for two subsets: 30-60 rounds, and 20-2000 (numbers to be decided))"
   ]
  },
  {
   "cell_type": "code",
   "execution_count": 10,
   "metadata": {},
   "outputs": [],
   "source": [
    "# Remove all rows with more than 500 rounds played from test_data in-place\n",
    "test_data.drop(test_data.query('sum_gamerounds > 500').index, inplace = True)"
   ]
  },
  {
   "cell_type": "markdown",
   "metadata": {},
   "source": [
    "Let's check ```test_data``` to verify."
   ]
  },
  {
   "cell_type": "code",
   "execution_count": 11,
   "metadata": {
    "scrolled": true
   },
   "outputs": [
    {
     "data": {
      "text/html": [
       "<div>\n",
       "<style scoped>\n",
       "    .dataframe tbody tr th:only-of-type {\n",
       "        vertical-align: middle;\n",
       "    }\n",
       "\n",
       "    .dataframe tbody tr th {\n",
       "        vertical-align: top;\n",
       "    }\n",
       "\n",
       "    .dataframe thead th {\n",
       "        text-align: right;\n",
       "    }\n",
       "</style>\n",
       "<table border=\"1\" class=\"dataframe\">\n",
       "  <thead>\n",
       "    <tr style=\"text-align: right;\">\n",
       "      <th></th>\n",
       "      <th>userid</th>\n",
       "      <th>version</th>\n",
       "      <th>sum_gamerounds</th>\n",
       "      <th>retention_1</th>\n",
       "      <th>retention_7</th>\n",
       "    </tr>\n",
       "  </thead>\n",
       "  <tbody>\n",
       "    <tr>\n",
       "      <th>8676</th>\n",
       "      <td>954991</td>\n",
       "      <td>gate_40</td>\n",
       "      <td>500</td>\n",
       "      <td>True</td>\n",
       "      <td>True</td>\n",
       "    </tr>\n",
       "    <tr>\n",
       "      <th>23304</th>\n",
       "      <td>2594923</td>\n",
       "      <td>gate_40</td>\n",
       "      <td>500</td>\n",
       "      <td>True</td>\n",
       "      <td>True</td>\n",
       "    </tr>\n",
       "    <tr>\n",
       "      <th>43416</th>\n",
       "      <td>4803763</td>\n",
       "      <td>gate_40</td>\n",
       "      <td>500</td>\n",
       "      <td>True</td>\n",
       "      <td>True</td>\n",
       "    </tr>\n",
       "    <tr>\n",
       "      <th>69959</th>\n",
       "      <td>7754204</td>\n",
       "      <td>gate_30</td>\n",
       "      <td>500</td>\n",
       "      <td>True</td>\n",
       "      <td>True</td>\n",
       "    </tr>\n",
       "  </tbody>\n",
       "</table>\n",
       "</div>"
      ],
      "text/plain": [
       "        userid  version  sum_gamerounds  retention_1  retention_7\n",
       "8676    954991  gate_40             500         True         True\n",
       "23304  2594923  gate_40             500         True         True\n",
       "43416  4803763  gate_40             500         True         True\n",
       "69959  7754204  gate_30             500         True         True"
      ]
     },
     "execution_count": 11,
     "metadata": {},
     "output_type": "execute_result"
    }
   ],
   "source": [
    "test_data.query('sum_gamerounds > 499')"
   ]
  },
  {
   "cell_type": "markdown",
   "metadata": {},
   "source": [
    "One more thing I would like to check before moving on to hypothesis testing is whether we have players who have values ```False``` for ```retention_1``` and ```True``` for ```retention_7```."
   ]
  },
  {
   "cell_type": "code",
   "execution_count": 12,
   "metadata": {
    "scrolled": true
   },
   "outputs": [
    {
     "data": {
      "text/html": [
       "<div>\n",
       "<style scoped>\n",
       "    .dataframe tbody tr th:only-of-type {\n",
       "        vertical-align: middle;\n",
       "    }\n",
       "\n",
       "    .dataframe tbody tr th {\n",
       "        vertical-align: top;\n",
       "    }\n",
       "\n",
       "    .dataframe thead th {\n",
       "        text-align: right;\n",
       "    }\n",
       "</style>\n",
       "<table border=\"1\" class=\"dataframe\">\n",
       "  <thead>\n",
       "    <tr style=\"text-align: right;\">\n",
       "      <th></th>\n",
       "      <th>userid</th>\n",
       "      <th>sum_gamerounds</th>\n",
       "      <th>retention_1</th>\n",
       "      <th>retention_7</th>\n",
       "    </tr>\n",
       "    <tr>\n",
       "      <th>version</th>\n",
       "      <th></th>\n",
       "      <th></th>\n",
       "      <th></th>\n",
       "      <th></th>\n",
       "    </tr>\n",
       "  </thead>\n",
       "  <tbody>\n",
       "    <tr>\n",
       "      <th>gate_30</th>\n",
       "      <td>1153</td>\n",
       "      <td>1153</td>\n",
       "      <td>1153</td>\n",
       "      <td>1153</td>\n",
       "    </tr>\n",
       "    <tr>\n",
       "      <th>gate_40</th>\n",
       "      <td>1107</td>\n",
       "      <td>1107</td>\n",
       "      <td>1107</td>\n",
       "      <td>1107</td>\n",
       "    </tr>\n",
       "  </tbody>\n",
       "</table>\n",
       "</div>"
      ],
      "text/plain": [
       "         userid  sum_gamerounds  retention_1  retention_7\n",
       "version                                                  \n",
       "gate_30    1153            1153         1153         1153\n",
       "gate_40    1107            1107         1107         1107"
      ]
     },
     "execution_count": 12,
     "metadata": {},
     "output_type": "execute_result"
    }
   ],
   "source": [
    "# Find rows with retention_1 as Fals AND retention_7 as True, group them by verion,\n",
    "# and return the counts\n",
    "test_data.query('retention_1 == False & retention_7 == True').groupby('version').count()"
   ]
  },
  {
   "cell_type": "markdown",
   "metadata": {},
   "source": [
    "There are 2260 rows that fit that description.  \n",
    "\n",
    "The trouble I see with those values is that they could very well be players who installed the game, forgot about it, and remembered it the following week, effectively making day 7 their first day. So there's a discontinuity in their playing behavior that might not be correctly captured with the ```retention_1``` and ```retention_7``` values. So, I will drop those rows too."
   ]
  },
  {
   "cell_type": "code",
   "execution_count": 13,
   "metadata": {},
   "outputs": [],
   "source": [
    "# Remove all rows with day 1 value as False and day 7 as True from test_data in-place\n",
    "test_data.drop(test_data.query('retention_1 == False & retention_7 == True').index,\n",
    "               inplace = True)"
   ]
  },
  {
   "cell_type": "markdown",
   "metadata": {},
   "source": [
    "Another check to make sure the data was dropped correctly."
   ]
  },
  {
   "cell_type": "code",
   "execution_count": 14,
   "metadata": {
    "scrolled": true
   },
   "outputs": [
    {
     "data": {
      "text/html": [
       "<div>\n",
       "<style scoped>\n",
       "    .dataframe tbody tr th:only-of-type {\n",
       "        vertical-align: middle;\n",
       "    }\n",
       "\n",
       "    .dataframe tbody tr th {\n",
       "        vertical-align: top;\n",
       "    }\n",
       "\n",
       "    .dataframe thead th {\n",
       "        text-align: right;\n",
       "    }\n",
       "</style>\n",
       "<table border=\"1\" class=\"dataframe\">\n",
       "  <thead>\n",
       "    <tr style=\"text-align: right;\">\n",
       "      <th></th>\n",
       "      <th>userid</th>\n",
       "      <th>sum_gamerounds</th>\n",
       "      <th>retention_1</th>\n",
       "      <th>retention_7</th>\n",
       "    </tr>\n",
       "    <tr>\n",
       "      <th>version</th>\n",
       "      <th></th>\n",
       "      <th></th>\n",
       "      <th></th>\n",
       "      <th></th>\n",
       "    </tr>\n",
       "  </thead>\n",
       "  <tbody>\n",
       "  </tbody>\n",
       "</table>\n",
       "</div>"
      ],
      "text/plain": [
       "Empty DataFrame\n",
       "Columns: [userid, sum_gamerounds, retention_1, retention_7]\n",
       "Index: []"
      ]
     },
     "execution_count": 14,
     "metadata": {},
     "output_type": "execute_result"
    }
   ],
   "source": [
    "test_data.query('retention_1 == False & retention_7 == True').groupby('version').count()"
   ]
  },
  {
   "cell_type": "markdown",
   "metadata": {},
   "source": [
    "Now that I'm done trimming the data, I want to make sure both groups are evenly represented in the dataset, so I'll compare their counts."
   ]
  },
  {
   "cell_type": "code",
   "execution_count": 15,
   "metadata": {
    "scrolled": true
   },
   "outputs": [
    {
     "data": {
      "text/html": [
       "<div>\n",
       "<style scoped>\n",
       "    .dataframe tbody tr th:only-of-type {\n",
       "        vertical-align: middle;\n",
       "    }\n",
       "\n",
       "    .dataframe tbody tr th {\n",
       "        vertical-align: top;\n",
       "    }\n",
       "\n",
       "    .dataframe thead th {\n",
       "        text-align: right;\n",
       "    }\n",
       "</style>\n",
       "<table border=\"1\" class=\"dataframe\">\n",
       "  <thead>\n",
       "    <tr style=\"text-align: right;\">\n",
       "      <th></th>\n",
       "      <th>userid</th>\n",
       "      <th>sum_gamerounds</th>\n",
       "      <th>retention_1</th>\n",
       "      <th>retention_7</th>\n",
       "    </tr>\n",
       "    <tr>\n",
       "      <th>version</th>\n",
       "      <th></th>\n",
       "      <th></th>\n",
       "      <th></th>\n",
       "      <th></th>\n",
       "    </tr>\n",
       "  </thead>\n",
       "  <tbody>\n",
       "    <tr>\n",
       "      <th>gate_30</th>\n",
       "      <td>15076</td>\n",
       "      <td>15076</td>\n",
       "      <td>15076</td>\n",
       "      <td>15076</td>\n",
       "    </tr>\n",
       "    <tr>\n",
       "      <th>gate_40</th>\n",
       "      <td>15077</td>\n",
       "      <td>15077</td>\n",
       "      <td>15077</td>\n",
       "      <td>15077</td>\n",
       "    </tr>\n",
       "  </tbody>\n",
       "</table>\n",
       "</div>"
      ],
      "text/plain": [
       "         userid  sum_gamerounds  retention_1  retention_7\n",
       "version                                                  \n",
       "gate_30   15076           15076        15076        15076\n",
       "gate_40   15077           15077        15077        15077"
      ]
     },
     "execution_count": 15,
     "metadata": {},
     "output_type": "execute_result"
    }
   ],
   "source": [
    "test_data.groupby('version').count()"
   ]
  },
  {
   "cell_type": "markdown",
   "metadata": {},
   "source": [
    "The numbers are almost exact! I can now move on to comparing retention numbers by each version.  \n",
    "\n",
    "Let's check ```retention_1``` by group."
   ]
  },
  {
   "cell_type": "code",
   "execution_count": 16,
   "metadata": {
    "scrolled": true
   },
   "outputs": [
    {
     "data": {
      "text/plain": [
       "version\n",
       "gate_30    0.857389\n",
       "gate_40    0.855741\n",
       "Name: retention_1, dtype: float64"
      ]
     },
     "execution_count": 16,
     "metadata": {},
     "output_type": "execute_result"
    }
   ],
   "source": [
    "test_data.groupby('version')['retention_1'].mean()"
   ]
  },
  {
   "cell_type": "markdown",
   "metadata": {},
   "source": [
    "Day 1 retention numbers seem very close, 85.74% for gate_30 and 85.87% for gate_40, but there is a tiny bit of difference, so I'll check if it's significant by performing bootstrap analysis."
   ]
  },
  {
   "cell_type": "code",
   "execution_count": 17,
   "metadata": {},
   "outputs": [
    {
     "data": {
      "text/html": [
       "<div>\n",
       "<style scoped>\n",
       "    .dataframe tbody tr th:only-of-type {\n",
       "        vertical-align: middle;\n",
       "    }\n",
       "\n",
       "    .dataframe tbody tr th {\n",
       "        vertical-align: top;\n",
       "    }\n",
       "\n",
       "    .dataframe thead th {\n",
       "        text-align: right;\n",
       "    }\n",
       "</style>\n",
       "<table border=\"1\" class=\"dataframe\">\n",
       "  <thead>\n",
       "    <tr style=\"text-align: right;\">\n",
       "      <th>version</th>\n",
       "      <th>gate_30</th>\n",
       "      <th>gate_40</th>\n",
       "      <th>difference</th>\n",
       "    </tr>\n",
       "  </thead>\n",
       "  <tbody>\n",
       "    <tr>\n",
       "      <th>retention_1</th>\n",
       "      <td>0.865094</td>\n",
       "      <td>0.856645</td>\n",
       "      <td>0.986231</td>\n",
       "    </tr>\n",
       "    <tr>\n",
       "      <th>retention_1</th>\n",
       "      <td>0.862636</td>\n",
       "      <td>0.857937</td>\n",
       "      <td>0.547713</td>\n",
       "    </tr>\n",
       "    <tr>\n",
       "      <th>retention_1</th>\n",
       "      <td>0.855623</td>\n",
       "      <td>0.853319</td>\n",
       "      <td>0.270001</td>\n",
       "    </tr>\n",
       "    <tr>\n",
       "      <th>retention_1</th>\n",
       "      <td>0.861420</td>\n",
       "      <td>0.857866</td>\n",
       "      <td>0.414267</td>\n",
       "    </tr>\n",
       "    <tr>\n",
       "      <th>retention_1</th>\n",
       "      <td>0.858287</td>\n",
       "      <td>0.851723</td>\n",
       "      <td>0.770684</td>\n",
       "    </tr>\n",
       "  </tbody>\n",
       "</table>\n",
       "</div>"
      ],
      "text/plain": [
       "version       gate_30   gate_40  difference\n",
       "retention_1  0.865094  0.856645    0.986231\n",
       "retention_1  0.862636  0.857937    0.547713\n",
       "retention_1  0.855623  0.853319    0.270001\n",
       "retention_1  0.861420  0.857866    0.414267\n",
       "retention_1  0.858287  0.851723    0.770684"
      ]
     },
     "execution_count": 17,
     "metadata": {},
     "output_type": "execute_result"
    }
   ],
   "source": [
    "retention_1_bootstraps = []\n",
    "for i in range(10000):\n",
    "    bootstrap_mean = test_data.sample(frac=1,replace=True).groupby('version')['retention_1'].mean()\n",
    "    retention_1_bootstraps.append(bootstrap_mean)\n",
    "\n",
    "retention_1_bootstraps = pd.DataFrame(retention_1_bootstraps)\n",
    "retention_1_bootstraps['difference'] = \\\n",
    "(retention_1_bootstraps['gate_30']-retention_1_bootstraps['gate_40'])/retention_1_bootstraps['gate_40']*100\n",
    "retention_1_bootstraps.head()"
   ]
  },
  {
   "cell_type": "code",
   "execution_count": 18,
   "metadata": {
    "scrolled": false
   },
   "outputs": [
    {
     "data": {
      "image/png": "[encoded data removed]",
      "text/plain": [
       "<Figure size 720x360 with 2 Axes>"
      ]
     },
     "metadata": {
      "needs_background": "light"
     },
     "output_type": "display_data"
    }
   ],
   "source": [
    "fig, (ax1, ax2) = plt.subplots(1, 2)\n",
    "fig.set_size_inches(10, 5)\n",
    "ax1 = sns.kdeplot(data=retention_1_bootstraps[['gate_30', 'gate_40']], ax = ax1)\n",
    "ax2 = sns.histplot(data=retention_1_bootstraps['difference'], ax = ax2)\n",
    "fig.suptitle('1-Day Retention by Version and Bootstrap Differences')\n",
    "ax1.set_title('1-Day Retention by Version')\n",
    "ax1.set_xlabel('1-Day Retention')\n",
    "ax2.set_title('Distribution of Differences')\n",
    "ax2.set_xlabel('Difference');"
   ]
  },
  {
   "cell_type": "code",
   "execution_count": 19,
   "metadata": {
    "scrolled": true
   },
   "outputs": [
    {
     "name": "stdout",
     "output_type": "stream",
     "text": [
      "Probability of difference being above 0 is 65.91%\n"
     ]
    }
   ],
   "source": [
    "prob = (retention_1_bootstraps['difference'] > 0).mean()\n",
    "print(f'Probability of difference being above 0 is {prob:.2%}')"
   ]
  },
  {
   "cell_type": "markdown",
   "metadata": {},
   "source": [
    "Let's repeat the steps for 7-day retention"
   ]
  },
  {
   "cell_type": "code",
   "execution_count": 20,
   "metadata": {
    "scrolled": false
   },
   "outputs": [
    {
     "data": {
      "text/plain": [
       "version\n",
       "gate_30    0.381401\n",
       "gate_40    0.373019\n",
       "Name: retention_7, dtype: float64"
      ]
     },
     "execution_count": 20,
     "metadata": {},
     "output_type": "execute_result"
    }
   ],
   "source": [
    "test_data.groupby('version')['retention_7'].mean()"
   ]
  },
  {
   "cell_type": "code",
   "execution_count": 21,
   "metadata": {},
   "outputs": [],
   "source": [
    "retention_7_bootstraps = []\n",
    "for i in range(10000):\n",
    "    bootstrap_mean = test_data.sample(frac=1,replace=True).groupby('version')['retention_7'].mean()\n",
    "    retention_7_bootstraps.append(bootstrap_mean)\n",
    "\n",
    "retention_7_bootstraps = pd.DataFrame(retention_7_bootstraps)\n",
    "retention_7_bootstraps['difference'] =\\\n",
    "(retention_7_bootstraps['gate_30']-retention_7_bootstraps['gate_40'])/retention_7_bootstraps['gate_40']*100"
   ]
  },
  {
   "cell_type": "code",
   "execution_count": 22,
   "metadata": {
    "scrolled": false
   },
   "outputs": [
    {
     "data": {
      "image/png": "[encoded data removed]",
      "text/plain": [
       "<Figure size 720x360 with 2 Axes>"
      ]
     },
     "metadata": {
      "needs_background": "light"
     },
     "output_type": "display_data"
    }
   ],
   "source": [
    "fig, (ax1, ax2) = plt.subplots(1, 2)\n",
    "fig.set_size_inches(10, 5)\n",
    "ax1 = sns.kdeplot(data=retention_7_bootstraps[['gate_30', 'gate_40']], ax = ax1)\n",
    "ax2 = sns.histplot(data=retention_7_bootstraps['difference'], ax = ax2)\n",
    "fig.suptitle('7-Day Retention by Version and Bootstrap Differences')\n",
    "ax1.set_title('7-Day Retention by Version')\n",
    "ax1.set_xlabel('7-Day Retention')\n",
    "ax2.set_title('Distribution of Differences')\n",
    "ax2.set_xlabel('Difference');"
   ]
  },
  {
   "cell_type": "code",
   "execution_count": 23,
   "metadata": {
    "scrolled": true
   },
   "outputs": [
    {
     "name": "stdout",
     "output_type": "stream",
     "text": [
      "Probability of difference being above 0 is 93.55%\n"
     ]
    }
   ],
   "source": [
    "prob = (retention_7_bootstraps['difference'] > 0).mean()\n",
    "print(f'Probability of difference being above 0 is {prob:.2%}')"
   ]
  },
  {
   "cell_type": "markdown",
   "metadata": {},
   "source": [
    "Now, let's compare the numbers of rounds played."
   ]
  },
  {
   "cell_type": "code",
   "execution_count": 24,
   "metadata": {
    "scrolled": true
   },
   "outputs": [
    {
     "data": {
      "text/plain": [
       "version\n",
       "gate_30    106.608849\n",
       "gate_40    107.976985\n",
       "Name: sum_gamerounds, dtype: float64"
      ]
     },
     "execution_count": 24,
     "metadata": {},
     "output_type": "execute_result"
    }
   ],
   "source": [
    "test_data.groupby('version')['sum_gamerounds'].mean()"
   ]
  },
  {
   "cell_type": "code",
   "execution_count": 25,
   "metadata": {},
   "outputs": [],
   "source": [
    "gamerounds_bootstraps = []\n",
    "for i in range(10000):\n",
    "    bootstrap_mean = test_data.sample(frac=1,replace=True).groupby('version')['sum_gamerounds'].mean()\n",
    "    gamerounds_bootstraps.append(bootstrap_mean)\n",
    "\n",
    "gamerounds_bootstraps = pd.DataFrame(gamerounds_bootstraps)\n",
    "gamerounds_bootstraps['difference'] =\\\n",
    "(gamerounds_bootstraps['gate_30']-gamerounds_bootstraps['gate_40'])/gamerounds_bootstraps['gate_40']*100"
   ]
  },
  {
   "cell_type": "code",
   "execution_count": 26,
   "metadata": {
    "scrolled": false
   },
   "outputs": [
    {
     "data": {
      "image/png": "[encoded data removed]",
      "text/plain": [
       "<Figure size 720x360 with 2 Axes>"
      ]
     },
     "metadata": {
      "needs_background": "light"
     },
     "output_type": "display_data"
    }
   ],
   "source": [
    "fig, (ax1, ax2) = plt.subplots(1, 2)\n",
    "fig.set_size_inches(10, 5)\n",
    "ax1 = sns.kdeplot(data=gamerounds_bootstraps[['gate_30', 'gate_40']], ax = ax1)\n",
    "ax2 = sns.histplot(data=gamerounds_bootstraps['difference'], ax = ax2)\n",
    "fig.suptitle('Rounds Played by Version and Bootstrap Differences')\n",
    "ax1.set_title('Rounds Played by Version')\n",
    "ax1.set_xlabel('Rounds Played')\n",
    "ax2.set_title('Distribution of Differences')\n",
    "ax2.set_xlabel('Difference');"
   ]
  },
  {
   "cell_type": "code",
   "execution_count": 27,
   "metadata": {
    "scrolled": false
   },
   "outputs": [
    {
     "name": "stdout",
     "output_type": "stream",
     "text": [
      "Probability of difference being below 0 is 90.13%\n"
     ]
    }
   ],
   "source": [
    "prob = (gamerounds_bootstraps['difference'] < 0).mean()\n",
    "print(f'Probability of difference being below 0 is {prob:.2%}')"
   ]
  },
  {
   "cell_type": "markdown",
   "metadata": {},
   "source": [
    "***"
   ]
  },
  {
   "cell_type": "markdown",
   "metadata": {},
   "source": [
    "***"
   ]
  },
  {
   "cell_type": "markdown",
   "metadata": {},
   "source": [
    "# **"
   ]
  },
  {
   "cell_type": "markdown",
   "metadata": {},
   "source": [
    "# **"
   ]
  },
  {
   "cell_type": "markdown",
   "metadata": {},
   "source": [
    "***"
   ]
  },
  {
   "cell_type": "markdown",
   "metadata": {},
   "source": [
    "***"
   ]
  },
  {
   "cell_type": "markdown",
   "metadata": {},
   "source": [
    "What if we zoom in on the data a bit more and keep only the players who have played between 30 and 60 rounds?"
   ]
  },
  {
   "cell_type": "code",
   "execution_count": 3,
   "metadata": {},
   "outputs": [],
   "source": [
    "test_data = pd.read_csv('datasets/cookie_cats.csv')"
   ]
  },
  {
   "cell_type": "code",
   "execution_count": 4,
   "metadata": {
    "scrolled": true
   },
   "outputs": [
    {
     "data": {
      "text/html": [
       "<div>\n",
       "<style scoped>\n",
       "    .dataframe tbody tr th:only-of-type {\n",
       "        vertical-align: middle;\n",
       "    }\n",
       "\n",
       "    .dataframe tbody tr th {\n",
       "        vertical-align: top;\n",
       "    }\n",
       "\n",
       "    .dataframe thead th {\n",
       "        text-align: right;\n",
       "    }\n",
       "</style>\n",
       "<table border=\"1\" class=\"dataframe\">\n",
       "  <thead>\n",
       "    <tr style=\"text-align: right;\">\n",
       "      <th></th>\n",
       "      <th>userid</th>\n",
       "      <th>sum_gamerounds</th>\n",
       "      <th>retention_1</th>\n",
       "      <th>retention_7</th>\n",
       "    </tr>\n",
       "    <tr>\n",
       "      <th>version</th>\n",
       "      <th></th>\n",
       "      <th></th>\n",
       "      <th></th>\n",
       "      <th></th>\n",
       "    </tr>\n",
       "  </thead>\n",
       "  <tbody>\n",
       "    <tr>\n",
       "      <th>gate_30</th>\n",
       "      <td>6553</td>\n",
       "      <td>6553</td>\n",
       "      <td>6553</td>\n",
       "      <td>6553</td>\n",
       "    </tr>\n",
       "    <tr>\n",
       "      <th>gate_40</th>\n",
       "      <td>6180</td>\n",
       "      <td>6180</td>\n",
       "      <td>6180</td>\n",
       "      <td>6180</td>\n",
       "    </tr>\n",
       "  </tbody>\n",
       "</table>\n",
       "</div>"
      ],
      "text/plain": [
       "         userid  sum_gamerounds  retention_1  retention_7\n",
       "version                                                  \n",
       "gate_30    6553            6553         6553         6553\n",
       "gate_40    6180            6180         6180         6180"
      ]
     },
     "execution_count": 4,
     "metadata": {},
     "output_type": "execute_result"
    }
   ],
   "source": [
    "# Remove all rows with less than 30 rounds played from test_data in-place\n",
    "test_data.drop(test_data.query('sum_gamerounds < 30').index, inplace = True)\n",
    "# Remove all rows with more than 60 rounds played from test_data in-place\n",
    "test_data.drop(test_data.query('sum_gamerounds > 60').index, inplace = True)\n",
    "# Remove all rows with day 1 value as False and day 7 as True from test_data in-place\n",
    "test_data.drop(test_data.query('retention_1 == False & retention_7 == True').index,\n",
    "               inplace = True)\n",
    "test_data.groupby('version').count()"
   ]
  },
  {
   "cell_type": "code",
   "execution_count": 5,
   "metadata": {
    "scrolled": false
   },
   "outputs": [
    {
     "data": {
      "text/plain": [
       "version\n",
       "gate_30    0.753243\n",
       "gate_40    0.749353\n",
       "Name: retention_1, dtype: float64"
      ]
     },
     "execution_count": 5,
     "metadata": {},
     "output_type": "execute_result"
    }
   ],
   "source": [
    "test_data.groupby('version')['retention_1'].mean()"
   ]
  },
  {
   "cell_type": "code",
   "execution_count": 6,
   "metadata": {
    "scrolled": true
   },
   "outputs": [
    {
     "data": {
      "text/html": [
       "<div>\n",
       "<style scoped>\n",
       "    .dataframe tbody tr th:only-of-type {\n",
       "        vertical-align: middle;\n",
       "    }\n",
       "\n",
       "    .dataframe tbody tr th {\n",
       "        vertical-align: top;\n",
       "    }\n",
       "\n",
       "    .dataframe thead th {\n",
       "        text-align: right;\n",
       "    }\n",
       "</style>\n",
       "<table border=\"1\" class=\"dataframe\">\n",
       "  <thead>\n",
       "    <tr style=\"text-align: right;\">\n",
       "      <th>version</th>\n",
       "      <th>gate_30</th>\n",
       "      <th>gate_40</th>\n",
       "      <th>difference</th>\n",
       "    </tr>\n",
       "  </thead>\n",
       "  <tbody>\n",
       "    <tr>\n",
       "      <th>retention_1</th>\n",
       "      <td>0.755454</td>\n",
       "      <td>0.739074</td>\n",
       "      <td>2.216248</td>\n",
       "    </tr>\n",
       "    <tr>\n",
       "      <th>retention_1</th>\n",
       "      <td>0.757483</td>\n",
       "      <td>0.744291</td>\n",
       "      <td>1.772421</td>\n",
       "    </tr>\n",
       "    <tr>\n",
       "      <th>retention_1</th>\n",
       "      <td>0.755914</td>\n",
       "      <td>0.753281</td>\n",
       "      <td>0.349535</td>\n",
       "    </tr>\n",
       "    <tr>\n",
       "      <th>retention_1</th>\n",
       "      <td>0.752970</td>\n",
       "      <td>0.755473</td>\n",
       "      <td>-0.331294</td>\n",
       "    </tr>\n",
       "    <tr>\n",
       "      <th>retention_1</th>\n",
       "      <td>0.762384</td>\n",
       "      <td>0.753388</td>\n",
       "      <td>1.194122</td>\n",
       "    </tr>\n",
       "  </tbody>\n",
       "</table>\n",
       "</div>"
      ],
      "text/plain": [
       "version       gate_30   gate_40  difference\n",
       "retention_1  0.755454  0.739074    2.216248\n",
       "retention_1  0.757483  0.744291    1.772421\n",
       "retention_1  0.755914  0.753281    0.349535\n",
       "retention_1  0.752970  0.755473   -0.331294\n",
       "retention_1  0.762384  0.753388    1.194122"
      ]
     },
     "execution_count": 6,
     "metadata": {},
     "output_type": "execute_result"
    }
   ],
   "source": [
    "retention_1_bootstraps = []\n",
    "for i in range(10000):\n",
    "    bootstrap_mean = test_data.sample(frac=1,replace=True).groupby('version')['retention_1'].mean()\n",
    "    retention_1_bootstraps.append(bootstrap_mean)\n",
    "\n",
    "retention_1_bootstraps = pd.DataFrame(retention_1_bootstraps)\n",
    "retention_1_bootstraps['difference'] = \\\n",
    "(retention_1_bootstraps['gate_30']-retention_1_bootstraps['gate_40'])/retention_1_bootstraps['gate_40']*100\n",
    "retention_1_bootstraps.head()"
   ]
  },
  {
   "cell_type": "code",
   "execution_count": 7,
   "metadata": {
    "scrolled": false
   },
   "outputs": [
    {
     "data": {
      "image/png": "[encoded data removed]",
      "text/plain": [
       "<Figure size 720x360 with 2 Axes>"
      ]
     },
     "metadata": {
      "needs_background": "light"
     },
     "output_type": "display_data"
    }
   ],
   "source": [
    "fig, (ax1, ax2) = plt.subplots(1, 2)\n",
    "fig.set_size_inches(10, 5)\n",
    "ax1 = sns.kdeplot(data=retention_1_bootstraps[['gate_30', 'gate_40']], ax = ax1)\n",
    "ax2 = sns.histplot(data=retention_1_bootstraps['difference'], ax = ax2)\n",
    "fig.suptitle('1-Day Retention by Version and Bootstrap Differences')\n",
    "ax1.set_title('1-Day Retention by Version')\n",
    "ax1.set_xlabel('1-Day Retention')\n",
    "ax2.set_title('Distribution of Differences')\n",
    "ax2.set_xlabel('Difference');"
   ]
  },
  {
   "cell_type": "code",
   "execution_count": 8,
   "metadata": {
    "scrolled": true
   },
   "outputs": [
    {
     "name": "stdout",
     "output_type": "stream",
     "text": [
      "Probability of difference being above 0 is 69.94%\n"
     ]
    }
   ],
   "source": [
    "prob = (retention_1_bootstraps['difference'] > 0).mean()\n",
    "print(f'Probability of difference being above 0 is {prob:.2%}')"
   ]
  },
  {
   "cell_type": "code",
   "execution_count": 9,
   "metadata": {
    "scrolled": false
   },
   "outputs": [
    {
     "data": {
      "text/plain": [
       "version\n",
       "gate_30    0.155196\n",
       "gate_40    0.144822\n",
       "Name: retention_7, dtype: float64"
      ]
     },
     "execution_count": 9,
     "metadata": {},
     "output_type": "execute_result"
    }
   ],
   "source": [
    "test_data.groupby('version')['retention_7'].mean()"
   ]
  },
  {
   "cell_type": "code",
   "execution_count": 10,
   "metadata": {},
   "outputs": [],
   "source": [
    "retention_7_bootstraps = []\n",
    "for i in range(10000):\n",
    "    bootstrap_mean = test_data.sample(frac=1,replace=True).groupby('version')['retention_7'].mean()\n",
    "    retention_7_bootstraps.append(bootstrap_mean)\n",
    "\n",
    "retention_7_bootstraps = pd.DataFrame(retention_7_bootstraps)\n",
    "retention_7_bootstraps['difference'] =\\\n",
    "(retention_7_bootstraps['gate_30']-retention_7_bootstraps['gate_40'])/retention_7_bootstraps['gate_40']*100"
   ]
  },
  {
   "cell_type": "code",
   "execution_count": 11,
   "metadata": {
    "scrolled": false
   },
   "outputs": [
    {
     "name": "stdout",
     "output_type": "stream",
     "text": [
      "Probability of difference being above 0 is 95.11%\n"
     ]
    },
    {
     "data": {
      "image/png": "[encoded data removed]",
      "text/plain": [
       "<Figure size 720x360 with 2 Axes>"
      ]
     },
     "metadata": {
      "needs_background": "light"
     },
     "output_type": "display_data"
    }
   ],
   "source": [
    "fig, (ax1, ax2) = plt.subplots(1, 2)\n",
    "fig.set_size_inches(10, 5)\n",
    "ax1 = sns.kdeplot(data=retention_7_bootstraps[['gate_30', 'gate_40']], ax = ax1)\n",
    "ax2 = sns.histplot(data=retention_7_bootstraps['difference'], ax = ax2)\n",
    "fig.suptitle('7-Day Retention by Version and Bootstrap Differences')\n",
    "ax1.set_title('7-Day Retention by Version')\n",
    "ax1.set_xlabel('7-Day Retention')\n",
    "ax2.set_title('Distribution of Differences')\n",
    "ax2.set_xlabel('Difference');\n",
    "prob = (retention_7_bootstraps['difference'] > 0).mean()\n",
    "print(f'Probability of difference being above 0 is {prob:.2%}')"
   ]
  },
  {
   "cell_type": "code",
   "execution_count": 15,
   "metadata": {
    "scrolled": true
   },
   "outputs": [
    {
     "data": {
      "text/plain": [
       "version\n",
       "gate_30    42.392339\n",
       "gate_40    42.788026\n",
       "Name: sum_gamerounds, dtype: float64"
      ]
     },
     "execution_count": 15,
     "metadata": {},
     "output_type": "execute_result"
    }
   ],
   "source": [
    "test_data.groupby('version')['sum_gamerounds'].mean()"
   ]
  },
  {
   "cell_type": "code",
   "execution_count": 14,
   "metadata": {},
   "outputs": [],
   "source": [
    "gamerounds_bootstraps = []\n",
    "for i in range(10000):\n",
    "    bootstrap_mean = test_data.sample(frac=1,replace=True).groupby('version')['sum_gamerounds'].mean()\n",
    "    gamerounds_bootstraps.append(bootstrap_mean)\n",
    "\n",
    "gamerounds_bootstraps = pd.DataFrame(gamerounds_bootstraps)\n",
    "gamerounds_bootstraps['difference'] =\\\n",
    "(gamerounds_bootstraps['gate_30']-gamerounds_bootstraps['gate_40'])/gamerounds_bootstraps['gate_40']*100"
   ]
  },
  {
   "cell_type": "code",
   "execution_count": 16,
   "metadata": {
    "scrolled": false
   },
   "outputs": [
    {
     "name": "stdout",
     "output_type": "stream",
     "text": [
      "Probability of difference being below 0 is 99.37%\n"
     ]
    },
    {
     "data": {
      "image/png": "[encoded data removed]",
      "text/plain": [
       "<Figure size 720x360 with 2 Axes>"
      ]
     },
     "metadata": {
      "needs_background": "light"
     },
     "output_type": "display_data"
    }
   ],
   "source": [
    "fig, (ax1, ax2) = plt.subplots(1, 2)\n",
    "fig.set_size_inches(10, 5)\n",
    "ax1 = sns.kdeplot(data=gamerounds_bootstraps[['gate_30', 'gate_40']], ax = ax1)\n",
    "ax2 = sns.histplot(data=gamerounds_bootstraps['difference'], ax = ax2)\n",
    "fig.suptitle('Rounds Played by Version and Bootstrap Differences')\n",
    "ax1.set_title('Rounds Played by Version')\n",
    "ax1.set_xlabel('Rounds Played')\n",
    "ax2.set_title('Distribution of Differences')\n",
    "ax2.set_xlabel('Difference');\n",
    "prob = (gamerounds_bootstraps['difference'] < 0).mean()\n",
    "print(f'Probability of difference being below 0 is {prob:.2%}')"
   ]
  },
  {
   "cell_type": "markdown",
   "metadata": {},
   "source": [
    "Data clean-up:  \n",
    "- [x] Replace the line plot for players with 100 or fewer rounds played with a histogram of players with upto 200 rounds played\n",
    "-[x] Remove players with less than 25 or 30 rounds played and explain why (didn't play enough to contribute to the trial)\n",
    "-[x] Remove players who played over 500 rounds and explain why (gate 30 or 40 doesn't really affect them)\n",
    "-[x] Remove players with False for day 1 retention and True for day 7 retention because their data is unrealiable  \n",
    "\n",
    "For the remaining data:  \n",
    "- [ ] **Add hypotheses for each calculation**  \n",
    "- [ ] Reorganize cells to reduce visual clutter\n",
    "- [ ] Add comments and markdown cells\n",
    "\n",
    "\n",
    "- [x] Calculate day 1 retention by version\n",
    "-[x] Bootstrap the data 10,000 times\n",
    "-[x] Plot distributions\n",
    "-[x] Calculate the difference between means\n",
    "-[x] Compute p-value for the hypothesis  \n",
    "\n",
    "Repeat the procedure for day 7 retention  \n",
    "- [x] Calculate day 7 retention by version\n",
    "-[x] Bootstrap the data 10,000 times\n",
    "-[x] Plot distributions\n",
    "-[x] Calculate the difference between means\n",
    "-[x] Compute p-value for the hypothesis\n",
    "\n",
    "Repeat the procedure for rounds played\n",
    "- [x] Calculate rounds played by version\n",
    "-[x] Bootstrap the data 10,000 times\n",
    "-[x] Plot distributions\n",
    "-[x] Calculate the difference between means\n",
    "-[x] Compute p-value for the hypothesis  \n",
    "\n",
    "\n",
    "- [ ] Repeat steps with wider set of rounds played (20-1000)\n",
    "-[x] Repeat steps with narrower set of rounds played (30-60)"
   ]
  }
 ],
 "metadata": {
  "kernelspec": {
   "display_name": "Python 3",
   "language": "python",
   "name": "python3"
  },
  "language_info": {
   "codemirror_mode": {
    "name": "ipython",
    "version": 3
   },
   "file_extension": ".py",
   "mimetype": "text/x-python",
   "name": "python",
   "nbconvert_exporter": "python",
   "pygments_lexer": "ipython3",
   "version": "3.8.5"
  }
 },
 "nbformat": 4,
 "nbformat_minor": 4
}
